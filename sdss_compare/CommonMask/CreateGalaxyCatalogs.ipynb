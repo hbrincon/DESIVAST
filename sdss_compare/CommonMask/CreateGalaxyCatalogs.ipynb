{
 "cells": [
  {
   "cell_type": "code",
   "execution_count": 7,
   "id": "f8ea7361-a733-4df7-a85a-94c7df659859",
   "metadata": {
    "tags": []
   },
   "outputs": [],
   "source": [
    "import numpy as np\n",
    "import json\n",
    "from astropy.table import Table, vstack, join\n",
    "from astropy.io import fits\n",
    "import matplotlib.pyplot as plt\n",
    "\n",
    "import sys\n",
    "sys.path.insert(1, '/global/homes/h/hrincon/python_tools')\n",
    "import VoidVolume as vol\n",
    "import VoidOverlap as vo\n",
    "import VoidCatalog as vc\n",
    "import VoidSlicePlots as vsp\n",
    "\n",
    "from vast.voidfinder.postprocessing import mknum\n",
    "from vast.voidfinder._voidfinder_cython_find_next import MaskChecker\n",
    "from vast.voidfinder.voidfinder import ra_dec_to_xyz\n",
    "from vast.voidfinder.distance import z_to_comoving_dist\n"
   ]
  },
  {
   "cell_type": "code",
   "execution_count": 8,
   "id": "a7cd2e12-8f2c-4055-8a35-5c27e0ef2b20",
   "metadata": {
    "tags": []
   },
   "outputs": [],
   "source": [
    "desi_gals_path = '/global/homes/h/hrincon/DESIVAST/galaxy_catalog/iron_ngc.fits'\n",
    "sdss_gals_path = '/global/homes/h/hrincon/DESIVAST/alt_mag_cuts/SDSSK1/nsa_k1.fits'\n",
    "masks_path = '/global/homes/h/hrincon/DESIVAST/galaxy_catalog/mask/alt_masks/masks.fits'"
   ]
  },
  {
   "cell_type": "code",
   "execution_count": 9,
   "id": "d905ac21-7cf2-4cbc-a0fb-1a6257bf3c89",
   "metadata": {
    "tags": []
   },
   "outputs": [],
   "source": [
    "desi_gals = Table.read(desi_gals_path)\n",
    "sdss_gals = Table.read(sdss_gals_path)\n",
    "masks = fits.open(masks_path)"
   ]
  },
  {
   "cell_type": "code",
   "execution_count": 4,
   "id": "e049a2b5-3ed3-4082-b09a-4ce52a99b72f",
   "metadata": {
    "tags": []
   },
   "outputs": [],
   "source": [
    "def select_mask(gals, mask_hdu, rmin, rmax):\n",
    "    mask_checker = MaskChecker(0,\n",
    "                            mask_hdu.data.astype(bool),\n",
    "                            mask_hdu.header['MSKRES'],\n",
    "                            rmin,\n",
    "                            rmax)\n",
    "    \n",
    "    points_boolean = np.ones(len(gals), dtype = bool)\n",
    "    \n",
    "    if not np.all(np.isin(['x','y','z'], gals.colnames)):\n",
    "        gals['Rgal']=z_to_comoving_dist(gals['redshift'].astype(np.float32),.315,1)\n",
    "        tmp = ra_dec_to_xyz(gals)\n",
    "        gals['x']=tmp[:,0]\n",
    "        gals['y']=tmp[:,1]\n",
    "        gals['z']=tmp[:,2]\n",
    "\n",
    "    #Flag points that fall outside the mask\n",
    "    for i in range(len(gals)):\n",
    "        # The current point\n",
    "        curr_pt = np.array([gals['x'][i],gals['y'][i],gals['z'][i]])\n",
    "        # Declare if point is not in mask\n",
    "        not_in_mask = mask_checker.not_in_mask(curr_pt)\n",
    "        # Invert not_in_mask to tag points in the mask\n",
    "        points_boolean[i] = not bool(not_in_mask)\n",
    "    return gals[points_boolean]"
   ]
  },
  {
   "cell_type": "code",
   "execution_count": 31,
   "id": "885fceaf-e940-4d1d-a659-31b9c2a92083",
   "metadata": {
    "tags": []
   },
   "outputs": [],
   "source": [
    "desi_gals_masked = select_mask(desi_gals, masks['COMPFID'], 0, 332.38626)"
   ]
  },
  {
   "cell_type": "code",
   "execution_count": 35,
   "id": "56776aaa-dac8-4202-bd23-1a33ebca8483",
   "metadata": {
    "tags": []
   },
   "outputs": [],
   "source": [
    "sdss_gals_masked = select_mask(sdss_gals, masks['COMPFID'], 0, 332.38626)"
   ]
  },
  {
   "cell_type": "code",
   "execution_count": 36,
   "id": "556521fa-1ae2-462f-a752-f61ae7244752",
   "metadata": {
    "tags": []
   },
   "outputs": [
    {
     "data": {
      "text/plain": [
       "(10285, 18085)"
      ]
     },
     "execution_count": 36,
     "metadata": {},
     "output_type": "execute_result"
    }
   ],
   "source": [
    "# The DESI catalog has a -19.5 cut, while the SDSS catalog has no cut,\n",
    "# if I remember right\n",
    "len(desi_gals_masked), len(sdss_gals_masked)"
   ]
  },
  {
   "cell_type": "code",
   "execution_count": 39,
   "id": "25e27300-acea-4071-88a2-13fc4d563670",
   "metadata": {
    "tags": []
   },
   "outputs": [
    {
     "data": {
      "text/plain": [
       "(6217, 7711)"
      ]
     },
     "execution_count": 39,
     "metadata": {},
     "output_type": "execute_result"
    }
   ],
   "source": [
    "# Comparison of volume limited catalog\n",
    "len(desi_gals_masked[desi_gals_masked['rabsmag']<-20]), len(sdss_gals_masked[sdss_gals_masked['rabsmag']<-20])\n"
   ]
  },
  {
   "cell_type": "code",
   "execution_count": 42,
   "id": "bedfdd2c-32bb-4462-b2f3-6dac74617f9b",
   "metadata": {
    "tags": []
   },
   "outputs": [],
   "source": [
    "#create a version with a larger redshift buffer for output\n",
    "desi_gals_masked = select_mask(desi_gals, masks['COMPFID'], 0, 350)\n",
    "sdss_gals_masked = select_mask(sdss_gals, masks['COMPFID'], 0, 350)"
   ]
  },
  {
   "cell_type": "code",
   "execution_count": 43,
   "id": "fde77273-dcc7-4c3a-9442-641434b27dec",
   "metadata": {
    "tags": []
   },
   "outputs": [],
   "source": [
    "desi_gals_masked.write('desi_fiducial.fits')\n",
    "sdss_gals_masked.write('sdss_fiducial.fits')"
   ]
  },
  {
   "cell_type": "markdown",
   "id": "05ffb1b2-c9d9-471a-abf9-0d94bb869131",
   "metadata": {},
   "source": [
    "# Mocks"
   ]
  },
  {
   "cell_type": "code",
   "execution_count": 10,
   "id": "523ca7c7-b9ce-4dd2-b3d3-61547fae8ad4",
   "metadata": {
    "tags": []
   },
   "outputs": [],
   "source": [
    "#Altmtl\n",
    "for i in range(25):\n",
    "    file = f'/global/homes/h/hrincon/DESIVAST/mocks/altmtl/altmtl{i}_ngc.fits'\n",
    "    gals = Table.read(file)\n",
    "    gals = select_mask(gals, masks['COMPFID'], 0, 332.38626)\n",
    "    gals.write(f'./altmtl/altmtl{i}_ngc.fits')\n"
   ]
  },
  {
   "cell_type": "code",
   "execution_count": 14,
   "id": "b0f14437-0566-41a9-ace7-f6c9bce2f7a7",
   "metadata": {
    "tags": []
   },
   "outputs": [],
   "source": [
    "#quaternary indexing\n",
    "idx='000'\n",
    "idx_list = [idx]\n",
    "for i in range(24):\n",
    "    idx = idx[0]+idx[1]+str(int(idx[2]) + 1)\n",
    "    if int(idx[2]) == 4:\n",
    "        idx = idx[0] +  str(int(idx[1]) + 1) + '0'\n",
    "\n",
    "        if int(idx[1]) == 4:\n",
    "            idx = str(int(idx[0]) + 1) + '00'\n",
    "    idx_list.append(idx)\n",
    "    \n",
    "for i in idx_list:\n",
    "    file = f'/global/homes/h/hrincon/DESIVAST/mocks/HorizonRun4/DR7m_{i}.fits'\n",
    "    gals = Table.read(file)\n",
    "    gals['z'].name = 'redshift'\n",
    "    gals = select_mask(gals, masks['COMPFID'], 0, 332.38626)\n",
    "    gals.write(f'./HR4/DR7m_{i}.fits')"
   ]
  },
  {
   "cell_type": "code",
   "execution_count": null,
   "id": "283a66a5-2565-4322-94bc-fe869b06651c",
   "metadata": {},
   "outputs": [],
   "source": []
  }
 ],
 "metadata": {
  "kernelspec": {
   "display_name": "DESI main",
   "language": "python",
   "name": "desi-main"
  },
  "language_info": {
   "codemirror_mode": {
    "name": "ipython",
    "version": 3
   },
   "file_extension": ".py",
   "mimetype": "text/x-python",
   "name": "python",
   "nbconvert_exporter": "python",
   "pygments_lexer": "ipython3",
   "version": "3.10.14"
  }
 },
 "nbformat": 4,
 "nbformat_minor": 5
}
