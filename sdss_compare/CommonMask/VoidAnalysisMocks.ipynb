{
 "cells": [
  {
   "cell_type": "code",
   "execution_count": 1,
   "id": "be59827e-b0b9-421f-a10e-9337f1d0caff",
   "metadata": {
    "tags": []
   },
   "outputs": [
    {
     "name": "stderr",
     "output_type": "stream",
     "text": [
      "<frozen importlib._bootstrap>:241: RuntimeWarning: vast.voidfinder._voidfinder_cython_find_next.SpatialMap size changed, may indicate binary incompatibility. Expected 1848 from C header, got 2272 from PyObject\n"
     ]
    }
   ],
   "source": [
    "import numpy as np\n",
    "import json\n",
    "from astropy.table import Table, vstack, join\n",
    "from astropy.io import fits\n",
    "import matplotlib.pyplot as plt\n",
    "\n",
    "import sys\n",
    "sys.path.insert(1, '/global/homes/h/hrincon/python_tools')\n",
    "import VoidVolume as vol\n",
    "import VoidOverlap as vo\n",
    "import VoidCatalog as vc\n",
    "import VoidSlicePlots as vsp\n",
    "\n",
    "from vast.voidfinder.postprocessing import mknum"
   ]
  },
  {
   "cell_type": "markdown",
   "id": "4030f949-c3e4-4d2d-a44c-81959f758905",
   "metadata": {},
   "source": [
    "# Read in REVOLVER Void Catalogs"
   ]
  },
  {
   "cell_type": "code",
   "execution_count": 2,
   "id": "c6c9424c-e413-4ee2-baa7-133bee169e63",
   "metadata": {
    "tags": []
   },
   "outputs": [],
   "source": [
    "desi_gals_path = '/global/homes/h/hrincon/DESIVAST/galaxy_catalog/iron_ngc.fits'\n",
    "sdss_gals_path = '/global/homes/h/hrincon/DESIVAST/alt_mag_cuts/SDSSK1/nsa_k1.fits'\n",
    "\n",
    "# -20\n",
    "desi_voids_path = '/global/homes/h/hrincon/DESIVAST/sdss_compare/CommonMask/DESI_V2_REVOLVER_Output.fits'\n",
    "sdss_voids_path = '/global/homes/h/hrincon/DESIVAST/sdss_compare/CommonMask/SDSS_V2_REVOLVER_Output.fits'\n",
    "\n",
    "# dimmer cut\n",
    "desi_voids_path_dim = '/global/homes/h/hrincon/DESIVAST/sdss_compare/CommonMask/minus19.89/DESI_V2_REVOLVER_Output.fits'\n",
    "sdss_voids_path_dim = '/global/homes/h/hrincon/DESIVAST/sdss_compare/CommonMask/minus19.94/SDSS_V2_REVOLVER_Output.fits'\n",
    "\n",
    "# brighter cut\n",
    "desi_voids_path_bright = '/global/homes/h/hrincon/DESIVAST/sdss_compare/CommonMask/minus20.06/DESI_V2_REVOLVER_Output.fits'\n",
    "sdss_voids_path_bright = '/global/homes/h/hrincon/DESIVAST/sdss_compare/CommonMask/minus20.11/SDSS_V2_REVOLVER_Output.fits'\n",
    "\n",
    "\n",
    "#DESI\n",
    "\n",
    "v2r_desi = vc.V2Catalog(desi_voids_path)\n",
    "#v2r_desi.add_galaxies(desi_gals_path) \n",
    "v2r_desi_dim = vc.V2Catalog(desi_voids_path_dim)\n",
    "v2r_desi_bright = vc.V2Catalog(desi_voids_path_bright)\n",
    "\n",
    "#SDSS\n",
    "v2r_sdss = vc.V2Catalog(sdss_voids_path)\n",
    "#v2r_sdss.add_galaxies(sdss_gals_path) \n",
    "v2r_sdss_dim = vc.V2Catalog(sdss_voids_path_dim)\n",
    "v2r_sdss_bright = vc.V2Catalog(sdss_voids_path_bright)\n"
   ]
  },
  {
   "cell_type": "code",
   "execution_count": 3,
   "id": "2847adde-4981-440c-b81e-1b453fec11a8",
   "metadata": {
    "tags": []
   },
   "outputs": [],
   "source": [
    "masks_path = '/global/homes/h/hrincon/DESIVAST/galaxy_catalog/mask/alt_masks/masks.fits'\n",
    "\n",
    "masks = fits.open(masks_path)"
   ]
  },
  {
   "cell_type": "markdown",
   "id": "13d83992-8327-4876-89dd-c865cf6acbea",
   "metadata": {},
   "source": [
    "Catalog preparation"
   ]
  },
  {
   "cell_type": "code",
   "execution_count": 53,
   "id": "d50c4efb-1c57-4178-a077-7c3e644e688d",
   "metadata": {},
   "outputs": [],
   "source": [
    "# Uncomment below lines if this is the first time running a catalog\n",
    "# vfc.calculate_r_eff()\n",
    "# vfc.calculate_vflag()\n",
    "# vfc.calculate_r_eff()\n",
    "#vfc_sdss.calculate_vflag()\n",
    "#vfc_sdss.calculate_r_eff()"
   ]
  },
  {
   "cell_type": "markdown",
   "id": "113e788c-ffe3-4e35-86da-e47e252bf800",
   "metadata": {},
   "source": [
    "# Catalog General Properties"
   ]
  },
  {
   "cell_type": "code",
   "execution_count": 7,
   "id": "e6dd7c63-9edd-49b7-919d-7f3cecc550a6",
   "metadata": {
    "tags": []
   },
   "outputs": [],
   "source": [
    "redtext = lambda x: f\"\\x1b[31m{x}\\x1b[0m\""
   ]
  },
  {
   "cell_type": "code",
   "execution_count": 13,
   "id": "4946a1fb-12ee-4c49-a49e-e7a521e4ff02",
   "metadata": {
    "tags": []
   },
   "outputs": [
    {
     "name": "stdout",
     "output_type": "stream",
     "text": [
      "\n",
      "\u001b[31mDESI REVOVLER\u001b[0m \n",
      "\n",
      "79 voids\n",
      "79 edge voids\n",
      "0 interior voids\n",
      "Mean Reff: 8.62 +/- 0.334 Mpc/h\n",
      "Median Reff: 7.82 +/- 0.419 Mpc/h\n",
      "Maximum Reff: 17.99 Mpc/h\n",
      "\n",
      "\u001b[31mSDSS REVOLVER\u001b[0m \n",
      "\n",
      "102 voids\n",
      "102 edge voids\n",
      "0 interior voids\n",
      "Mean Reff: 7.91 +/- 0.305 Mpc/h\n",
      "Median Reff: 6.54 +/- 0.383 Mpc/h\n",
      "Maximum Reff: 18.76 Mpc/h\n",
      "\n",
      "\u001b[31mDESI REVOVLER dim\u001b[0m \n",
      "\n",
      "91 voids\n",
      "91 edge voids\n",
      "0 interior voids\n",
      "Mean Reff: 8.52 +/- 0.297 Mpc/h\n",
      "Median Reff: 7.82 +/- 0.372 Mpc/h\n",
      "Maximum Reff: 16.27 Mpc/h\n",
      "\n",
      "\u001b[31mSDSS REVOLVER dim\u001b[0m \n",
      "\n",
      "109 voids\n",
      "108 edge voids\n",
      "1 interior voids\n",
      "Mean Reff: 7.88 +/- 0.279 Mpc/h\n",
      "Median Reff: 6.83 +/- 0.35 Mpc/h\n",
      "Maximum Reff: 17.81 Mpc/h\n",
      "\n",
      "\u001b[31mDESI REVOVLER bright\u001b[0m \n",
      "\n",
      "74 voids\n",
      "74 edge voids\n",
      "0 interior voids\n",
      "Mean Reff: 8.51 +/- 0.377 Mpc/h\n",
      "Median Reff: 7.28 +/- 0.473 Mpc/h\n",
      "Maximum Reff: 17.64 Mpc/h\n",
      "\n",
      "\u001b[31mSDSS REVOLVER bright\u001b[0m \n",
      "\n",
      "87 voids\n",
      "87 edge voids\n",
      "0 interior voids\n",
      "Mean Reff: 8.39 +/- 0.314 Mpc/h\n",
      "Median Reff: 7.43 +/- 0.394 Mpc/h\n",
      "Maximum Reff: 19.0 Mpc/h\n"
     ]
    }
   ],
   "source": [
    "print('\\n'+redtext(\"DESI REVOVLER\"),'\\n')\n",
    "v2r_desi.void_stats()\n",
    "\n",
    "print('\\n'+redtext(\"SDSS REVOLVER\"),'\\n')\n",
    "v2r_sdss.void_stats()\n",
    "\n",
    "print('\\n'+redtext(\"DESI REVOVLER dim\"),'\\n')\n",
    "v2r_desi_dim.void_stats()\n",
    "\n",
    "print('\\n'+redtext(\"SDSS REVOLVER dim\"),'\\n')\n",
    "v2r_sdss_dim.void_stats()\n",
    "\n",
    "print('\\n'+redtext(\"DESI REVOVLER bright\"),'\\n')\n",
    "v2r_desi_bright.void_stats()\n",
    "\n",
    "print('\\n'+redtext(\"SDSS REVOLVER bright\"),'\\n')\n",
    "v2r_sdss_bright.void_stats()"
   ]
  },
  {
   "cell_type": "markdown",
   "id": "8c2e7968-3a2f-457b-b217-e49639919ba4",
   "metadata": {},
   "source": [
    "# Mocks"
   ]
  },
  {
   "cell_type": "code",
   "execution_count": 4,
   "id": "d1e3047e-9026-4b1e-a0ae-02816e8c9f19",
   "metadata": {},
   "outputs": [
    {
     "name": "stdout",
     "output_type": "stream",
     "text": [
      "0.46542123572689287\n",
      "0.40343446892935075\n",
      "0.6467667990112208\n"
     ]
    }
   ],
   "source": [
    "desi_medians = []\n",
    "for i in range (25):\n",
    "    file = f'/global/homes/h/hrincon/DESIVAST/sdss_compare/CommonMask/altmtl/altmtl{i}_VoidFinder_Output.fits'\n",
    "    v2r = vc.VoidFinderCatalog(file)\n",
    "    median = np.median(v2r.maximals['r_eff'])\n",
    "    desi_medians.append(median)\n",
    "print(np.std(desi_medians))\n",
    "desi_medians = []\n",
    "for i in range (25):\n",
    "    file = f'/global/homes/h/hrincon/DESIVAST/sdss_compare/CommonMask/altmtl/altmtl{i}_V2_REVOLVER_Output.fits'\n",
    "    v2r = vc.V2Catalog(file)\n",
    "    median = np.median(v2r.voids['radius'])\n",
    "    desi_medians.append(median)\n",
    "print(np.std(desi_medians))\n",
    "desi_medians = []\n",
    "for i in range (25):\n",
    "    file = f'/global/homes/h/hrincon/DESIVAST/sdss_compare/CommonMask/altmtl/altmtl{i}_V2_VIDE_Output.fits'\n",
    "    v2r = vc.V2Catalog(file)\n",
    "    median = np.median(v2r.voids['radius'])\n",
    "    desi_medians.append(median)\n",
    "print(np.std(desi_medians))"
   ]
  },
  {
   "cell_type": "code",
   "execution_count": 6,
   "id": "d40e3dba-4d9b-4947-b808-5b807f5a36b2",
   "metadata": {
    "tags": []
   },
   "outputs": [
    {
     "name": "stdout",
     "output_type": "stream",
     "text": [
      "0.4155288015773463\n",
      "0.48307996143507764\n",
      "0.5505844999558009\n"
     ]
    }
   ],
   "source": [
    "\n",
    "idx='000'\n",
    "idx_list = [idx]\n",
    "for i in range(24):\n",
    "    idx = idx[0]+idx[1]+str(int(idx[2]) + 1)\n",
    "    if int(idx[2]) == 4:\n",
    "        idx = idx[0] +  str(int(idx[1]) + 1) + '0'\n",
    "\n",
    "        if int(idx[1]) == 4:\n",
    "            idx = str(int(idx[0]) + 1) + '00'\n",
    "    idx_list.append(idx)\n",
    "\n",
    "sdss_medians = []\n",
    "for i in idx_list:\n",
    "    file = f'/global/homes/h/hrincon/DESIVAST/sdss_compare/CommonMask/HR4/HR4_{i}_VoidFinder_Output.fits'\n",
    "    v2r = vc.VoidFinderCatalog(file)\n",
    "    median = np.median(v2r.maximals['r_eff'])\n",
    "    sdss_medians.append(median)\n",
    "print(np.std(sdss_medians))\n",
    "\n",
    "sdss_medians = []\n",
    "for i in idx_list:\n",
    "    file = f'/global/homes/h/hrincon/DESIVAST/sdss_compare/CommonMask/HR4/HR4_{i}_V2_REVOLVER_Output.fits'\n",
    "    v2r = vc.V2Catalog(file)\n",
    "    median = np.median(v2r.voids['radius'])\n",
    "    sdss_medians.append(median)\n",
    "print(np.std(sdss_medians))\n",
    "\n",
    "sdss_medians = []\n",
    "for i in idx_list:\n",
    "    file = f'/global/homes/h/hrincon/DESIVAST/sdss_compare/CommonMask/HR4/HR4_{i}_V2_VIDE_Output.fits'\n",
    "    v2r = vc.V2Catalog(file)\n",
    "    median = np.median(v2r.voids['radius'])\n",
    "    sdss_medians.append(median)\n",
    "print(np.std(sdss_medians))"
   ]
  },
  {
   "cell_type": "markdown",
   "id": "2364d42c-76ce-474f-8139-97b2ab034171",
   "metadata": {},
   "source": [
    "# Read in VIDE Void Catalogs"
   ]
  },
  {
   "cell_type": "code",
   "execution_count": 3,
   "id": "07cd6b7e-7ba2-46e8-81f4-bd4743fde4da",
   "metadata": {
    "tags": []
   },
   "outputs": [],
   "source": [
    "# -20\n",
    "desi_voids_path = '/global/homes/h/hrincon/DESIVAST/sdss_compare/CommonMask/DESI_V2_VIDE_Output.fits'\n",
    "sdss_voids_path = '/global/homes/h/hrincon/DESIVAST/sdss_compare/CommonMask/SDSS_V2_VIDE_Output.fits'\n",
    "\n",
    "# dimmer cut\n",
    "desi_voids_path_dim = '/global/homes/h/hrincon/DESIVAST/sdss_compare/CommonMask/minus19.89/DESI_V2_VIDE_Output.fits'\n",
    "sdss_voids_path_dim = '/global/homes/h/hrincon/DESIVAST/sdss_compare/CommonMask/minus19.94/SDSS_V2_VIDE_Output.fits'\n",
    "\n",
    "# brighter cut\n",
    "desi_voids_path_bright = '/global/homes/h/hrincon/DESIVAST/sdss_compare/CommonMask/minus20.06/DESI_V2_VIDE_Output.fits'\n",
    "sdss_voids_path_bright = '/global/homes/h/hrincon/DESIVAST/sdss_compare/CommonMask/minus20.11/SDSS_V2_VIDE_Output.fits'\n",
    "\n",
    "\n",
    "#DESI\n",
    "\n",
    "v2v_desi = vc.V2Catalog(desi_voids_path)\n",
    "v2v_desi_dim = vc.V2Catalog(desi_voids_path_dim)\n",
    "v2v_desi_bright = vc.V2Catalog(desi_voids_path_bright)\n",
    "\n",
    "#SDSS\n",
    "v2v_sdss = vc.V2Catalog(sdss_voids_path)\n",
    "v2v_sdss_dim = vc.V2Catalog(sdss_voids_path_dim)\n",
    "v2v_sdss_bright = vc.V2Catalog(sdss_voids_path_bright)\n"
   ]
  },
  {
   "cell_type": "code",
   "execution_count": 5,
   "id": "cdc4338a-6cf3-436e-a405-96b3f5355bf4",
   "metadata": {
    "tags": []
   },
   "outputs": [
    {
     "name": "stdout",
     "output_type": "stream",
     "text": [
      "\n",
      "\u001b[31mDESI VIDE\u001b[0m \n",
      "\n",
      "17 voids\n",
      "17 edge voids\n",
      "0 interior voids\n",
      "Mean Reff: 13.89 +/- 0.801 Mpc/h\n",
      "Median Reff: 12.69 +/- 1.0 Mpc/h\n",
      "Maximum Reff: 24.04 Mpc/h\n",
      "\n",
      "\u001b[31mSDSS VIDE\u001b[0m \n",
      "\n",
      "17 voids\n",
      "17 edge voids\n",
      "0 interior voids\n",
      "Mean Reff: 14.42 +/- 0.99 Mpc/h\n",
      "Median Reff: 12.89 +/- 1.24 Mpc/h\n",
      "Maximum Reff: 27.49 Mpc/h\n",
      "\n",
      "\u001b[31mDESI VIDE dim\u001b[0m \n",
      "\n",
      "17 voids\n",
      "17 edge voids\n",
      "0 interior voids\n",
      "Mean Reff: 13.89 +/- 0.902 Mpc/h\n",
      "Median Reff: 12.84 +/- 1.13 Mpc/h\n",
      "Maximum Reff: 27.06 Mpc/h\n",
      "\n",
      "\u001b[31mSDSS VIDE dim\u001b[0m \n",
      "\n",
      "18 voids\n",
      "18 edge voids\n",
      "0 interior voids\n",
      "Mean Reff: 13.72 +/- 0.65 Mpc/h\n",
      "Median Reff: 13.25 +/- 0.815 Mpc/h\n",
      "Maximum Reff: 21.41 Mpc/h\n",
      "\n",
      "\u001b[31mDESI VIDE bright\u001b[0m \n",
      "\n",
      "19 voids\n",
      "19 edge voids\n",
      "0 interior voids\n",
      "Mean Reff: 13.73 +/- 0.678 Mpc/h\n",
      "Median Reff: 13.45 +/- 0.849 Mpc/h\n",
      "Maximum Reff: 22.15 Mpc/h\n",
      "\n",
      "\u001b[31mSDSS VIDE bright\u001b[0m \n",
      "\n",
      "18 voids\n",
      "18 edge voids\n",
      "0 interior voids\n",
      "Mean Reff: 13.88 +/- 0.851 Mpc/h\n",
      "Median Reff: 12.6 +/- 1.07 Mpc/h\n",
      "Maximum Reff: 25.51 Mpc/h\n"
     ]
    }
   ],
   "source": [
    "print('\\n'+redtext(\"DESI VIDE\"),'\\n')\n",
    "v2v_desi.void_stats()\n",
    "\n",
    "print('\\n'+redtext(\"SDSS VIDE\"),'\\n')\n",
    "v2v_sdss.void_stats()\n",
    "\n",
    "print('\\n'+redtext(\"DESI VIDE dim\"),'\\n')\n",
    "v2v_desi_dim.void_stats()\n",
    "\n",
    "print('\\n'+redtext(\"SDSS VIDE dim\"),'\\n')\n",
    "v2v_sdss_dim.void_stats()\n",
    "\n",
    "print('\\n'+redtext(\"DESI VIDE bright\"),'\\n')\n",
    "v2v_desi_bright.void_stats()\n",
    "\n",
    "print('\\n'+redtext(\"SDSS VIDE bright\"),'\\n')\n",
    "v2v_sdss_bright.void_stats()"
   ]
  },
  {
   "cell_type": "code",
   "execution_count": 6,
   "id": "a060db2a-e21d-4834-9a1c-0c310d8f4756",
   "metadata": {
    "tags": []
   },
   "outputs": [
    {
     "name": "stdout",
     "output_type": "stream",
     "text": [
      "0.6467667990112208\n"
     ]
    }
   ],
   "source": [
    "desi_medians = []\n",
    "for i in range (25):\n",
    "    file = f'/global/homes/h/hrincon/DESIVAST/sdss_compare/CommonMask/altmtl/altmtl{i}_V2_VIDE_Output.fits'\n",
    "    v2r = vc.V2Catalog(file)\n",
    "    median = np.median(v2r.voids['radius'])\n",
    "    desi_medians.append(median)\n",
    "print(np.std(desi_medians))"
   ]
  },
  {
   "cell_type": "code",
   "execution_count": 7,
   "id": "5031f5df-2c2a-40b0-b378-e6cca2ec097f",
   "metadata": {
    "tags": []
   },
   "outputs": [
    {
     "name": "stdout",
     "output_type": "stream",
     "text": [
      "0.5505844999558009\n"
     ]
    }
   ],
   "source": [
    "sdss_medians = []\n",
    "\n",
    "idx='000'\n",
    "idx_list = [idx]\n",
    "for i in range(24):\n",
    "    idx = idx[0]+idx[1]+str(int(idx[2]) + 1)\n",
    "    if int(idx[2]) == 4:\n",
    "        idx = idx[0] +  str(int(idx[1]) + 1) + '0'\n",
    "\n",
    "        if int(idx[1]) == 4:\n",
    "            idx = str(int(idx[0]) + 1) + '00'\n",
    "    idx_list.append(idx)\n",
    "\n",
    "for i in idx_list:\n",
    "    file = f'/global/homes/h/hrincon/DESIVAST/sdss_compare/CommonMask/HR4/HR4_{i}_V2_VIDE_Output.fits'\n",
    "    v2r = vc.V2Catalog(file)\n",
    "    median = np.median(v2r.voids['radius'])\n",
    "    sdss_medians.append(median)\n",
    "print(np.std(sdss_medians))"
   ]
  },
  {
   "cell_type": "markdown",
   "id": "a44e2c87-913d-48bb-a766-ee5c4ff7d34b",
   "metadata": {},
   "source": [
    "# Read in VoidFinder Voids (WIP)"
   ]
  },
  {
   "cell_type": "code",
   "execution_count": 4,
   "id": "8900bb76-1291-4082-8d0f-3334d6c6be4f",
   "metadata": {
    "tags": []
   },
   "outputs": [],
   "source": [
    "# -20\n",
    "desi_voids_path = '/global/homes/h/hrincon/DESIVAST/sdss_compare/CommonMask/DESI_VoidFinder_Output.fits'\n",
    "sdss_voids_path = '/global/homes/h/hrincon/DESIVAST/sdss_compare/CommonMask/SDSS_VoidFinder_Output.fits'\n",
    "\n",
    "# dimmer cut\n",
    "desi_voids_path_dim = '/global/homes/h/hrincon/DESIVAST/sdss_compare/CommonMask/minus19.89/DESI_VoidFinder_Output.fits'\n",
    "sdss_voids_path_dim = '/global/homes/h/hrincon/DESIVAST/sdss_compare/CommonMask/minus19.94/SDSS_VoidFinder_Output.fits'\n",
    "\n",
    "# brighter cut\n",
    "desi_voids_path_bright = '/global/homes/h/hrincon/DESIVAST/sdss_compare/CommonMask/minus20.06/DESI_VoidFinder_Output.fits'\n",
    "sdss_voids_path_bright = '/global/homes/h/hrincon/DESIVAST/sdss_compare/CommonMask/minus20.11/SDSS_VoidFinder_Output.fits'\n",
    "\n",
    "\n",
    "#DESI\n",
    "\n",
    "vfc_desi = vc.VoidFinderCatalog(desi_voids_path)\n",
    "vfc_desi_dim = vc.VoidFinderCatalog(desi_voids_path_dim)\n",
    "vfc_desi_bright = vc.VoidFinderCatalog(desi_voids_path_bright)\n",
    "\n",
    "#SDSS\n",
    "vfc_sdss = vc.VoidFinderCatalog(sdss_voids_path)\n",
    "vfc_sdss_dim = vc.VoidFinderCatalog(sdss_voids_path_dim)\n",
    "vfc_sdss_bright = vc.VoidFinderCatalog(sdss_voids_path_bright)\n"
   ]
  },
  {
   "cell_type": "code",
   "execution_count": 5,
   "id": "e82c36e9-1eaa-4225-86c2-745a84e33d29",
   "metadata": {
    "tags": []
   },
   "outputs": [],
   "source": [
    "vfc_desi.calculate_r_eff()\n",
    "vfc_desi_dim.calculate_r_eff()\n",
    "vfc_desi_bright.calculate_r_eff()\n",
    "vfc_sdss.calculate_r_eff()\n",
    "vfc_sdss_dim.calculate_r_eff()\n",
    "vfc_sdss_bright.calculate_r_eff()\n"
   ]
  },
  {
   "cell_type": "code",
   "execution_count": 8,
   "id": "6cec9512-c9ed-4311-bad2-384ea42a1cf6",
   "metadata": {},
   "outputs": [
    {
     "name": "stdout",
     "output_type": "stream",
     "text": [
      "\n",
      "\u001b[31mDESI VIDE\u001b[0m \n",
      "\n",
      "29 voids\n",
      "29 edge voids\n",
      "0 near-edge voids\n",
      "0 interior voids\n",
      "Mean Reff: 13.92 +/- 0.366 Mpc/h\n",
      "Median Reff: 13.6 +/- 0.459 Mpc/h\n",
      "Maximum Reff: 19.32 Mpc/h\n",
      "\n",
      "\u001b[31mSDSS VIDE\u001b[0m \n",
      "\n",
      "28 voids\n",
      "28 edge voids\n",
      "0 near-edge voids\n",
      "0 interior voids\n",
      "Mean Reff: 13.72 +/- 0.412 Mpc/h\n",
      "Median Reff: 12.9 +/- 0.517 Mpc/h\n",
      "Maximum Reff: 19.92 Mpc/h\n",
      "\n",
      "\u001b[31mDESI VIDE dim\u001b[0m \n",
      "\n",
      "33 voids\n",
      "31 edge voids\n",
      "2 near-edge voids\n",
      "0 interior voids\n",
      "Mean Reff: 13.4 +/- 0.315 Mpc/h\n",
      "Median Reff: 12.93 +/- 0.394 Mpc/h\n",
      "Maximum Reff: 18.43 Mpc/h\n",
      "\n",
      "\u001b[31mSDSS VIDE dim\u001b[0m \n",
      "\n",
      "28 voids\n",
      "27 edge voids\n",
      "0 near-edge voids\n",
      "1 interior voids\n",
      "Mean Reff: 13.64 +/- 0.359 Mpc/h\n",
      "Median Reff: 13.14 +/- 0.45 Mpc/h\n",
      "Maximum Reff: 18.35 Mpc/h\n",
      "\n",
      "\u001b[31mDESI VIDE bright\u001b[0m \n",
      "\n",
      "31 voids\n",
      "31 edge voids\n",
      "0 near-edge voids\n",
      "0 interior voids\n",
      "Mean Reff: 13.64 +/- 0.404 Mpc/h\n",
      "Median Reff: 13.4 +/- 0.507 Mpc/h\n",
      "Maximum Reff: 20.36 Mpc/h\n",
      "\n",
      "\u001b[31mSDSS VIDE bright\u001b[0m \n",
      "\n",
      "31 voids\n",
      "31 edge voids\n",
      "0 near-edge voids\n",
      "0 interior voids\n",
      "Mean Reff: 14.09 +/- 0.364 Mpc/h\n",
      "Median Reff: 13.66 +/- 0.457 Mpc/h\n",
      "Maximum Reff: 19.32 Mpc/h\n"
     ]
    }
   ],
   "source": [
    "print('\\n'+redtext(\"DESI VIDE\"),'\\n')\n",
    "vfc_desi.void_stats()\n",
    "\n",
    "print('\\n'+redtext(\"SDSS VIDE\"),'\\n')\n",
    "vfc_sdss.void_stats()\n",
    "\n",
    "print('\\n'+redtext(\"DESI VIDE dim\"),'\\n')\n",
    "vfc_desi_dim.void_stats()\n",
    "\n",
    "print('\\n'+redtext(\"SDSS VIDE dim\"),'\\n')\n",
    "vfc_sdss_dim.void_stats()\n",
    "\n",
    "print('\\n'+redtext(\"DESI VIDE bright\"),'\\n')\n",
    "vfc_desi_bright.void_stats()\n",
    "\n",
    "print('\\n'+redtext(\"SDSS VIDE bright\"),'\\n')\n",
    "vfc_sdss_bright.void_stats()"
   ]
  },
  {
   "cell_type": "code",
   "execution_count": 12,
   "id": "37407d71-5383-4169-a875-db37243e43e5",
   "metadata": {
    "tags": []
   },
   "outputs": [
    {
     "name": "stdout",
     "output_type": "stream",
     "text": [
      "0.46542123572689287\n"
     ]
    }
   ],
   "source": [
    "desi_medians = []\n",
    "for i in range (25):\n",
    "    file = f'/global/homes/h/hrincon/DESIVAST/sdss_compare/CommonMask/altmtl/altmtl{i}_VoidFinder_Output.fits'\n",
    "    vfc = vc.VoidFinderCatalog(file)\n",
    "    vfc.calculate_r_eff()\n",
    "    median = np.median(vfc.maximals['r_eff'])\n",
    "    desi_medians.append(median)\n",
    "print(np.std(desi_medians))"
   ]
  },
  {
   "cell_type": "code",
   "execution_count": 10,
   "id": "f9784f6a-1e98-4215-9bb8-43ff34a8561a",
   "metadata": {
    "tags": []
   },
   "outputs": [
    {
     "name": "stdout",
     "output_type": "stream",
     "text": [
      "0.4155288015773463\n"
     ]
    }
   ],
   "source": [
    "sdss_medians = []\n",
    "\n",
    "idx='000'\n",
    "idx_list = [idx]\n",
    "for i in range(24):\n",
    "    idx = idx[0]+idx[1]+str(int(idx[2]) + 1)\n",
    "    if int(idx[2]) == 4:\n",
    "        idx = idx[0] +  str(int(idx[1]) + 1) + '0'\n",
    "\n",
    "        if int(idx[1]) == 4:\n",
    "            idx = str(int(idx[0]) + 1) + '00'\n",
    "    idx_list.append(idx)\n",
    "\n",
    "for i in idx_list:\n",
    "    file = f'/global/homes/h/hrincon/DESIVAST/sdss_compare/CommonMask/HR4/HR4_{i}_VoidFinder_Output.fits'\n",
    "    vfc = vc.VoidFinderCatalog(file)\n",
    "    vfc.calculate_r_eff()\n",
    "    median = np.median(vfc.maximals['r_eff'])\n",
    "    sdss_medians.append(median)\n",
    "print(np.std(sdss_medians))"
   ]
  },
  {
   "cell_type": "code",
   "execution_count": null,
   "id": "450572c7-ea6c-4639-9ab2-8e8c6d5c2614",
   "metadata": {},
   "outputs": [],
   "source": []
  }
 ],
 "metadata": {
  "kernelspec": {
   "display_name": "DESI main",
   "language": "python",
   "name": "desi-main"
  },
  "language_info": {
   "codemirror_mode": {
    "name": "ipython",
    "version": 3
   },
   "file_extension": ".py",
   "mimetype": "text/x-python",
   "name": "python",
   "nbconvert_exporter": "python",
   "pygments_lexer": "ipython3",
   "version": "3.10.14"
  }
 },
 "nbformat": 4,
 "nbformat_minor": 5
}
