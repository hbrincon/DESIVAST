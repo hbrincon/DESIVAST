{
 "cells": [
  {
   "cell_type": "code",
   "execution_count": 1,
   "id": "be59827e-b0b9-421f-a10e-9337f1d0caff",
   "metadata": {
    "tags": []
   },
   "outputs": [
    {
     "name": "stderr",
     "output_type": "stream",
     "text": [
      "<frozen importlib._bootstrap>:241: RuntimeWarning: vast.voidfinder._voidfinder_cython_find_next.SpatialMap size changed, may indicate binary incompatibility. Expected 1848 from C header, got 2272 from PyObject\n"
     ]
    }
   ],
   "source": [
    "import numpy as np\n",
    "import json\n",
    "\n",
    "import sys\n",
    "sys.path.insert(1, '/global/homes/h/hrincon/python_tools')\n",
    "import VoidCatalog as vc\n",
    "\n",
    "from vast.voidfinder.postprocessing import mknum"
   ]
  },
  {
   "cell_type": "markdown",
   "id": "c481cefd-9cf1-49dd-8498-a9607a4cc113",
   "metadata": {},
   "source": [
    "# Full Mocks"
   ]
  },
  {
   "cell_type": "code",
   "execution_count": 9,
   "id": "0f6874af-1f83-4586-b775-36485ae5e7f3",
   "metadata": {
    "tags": []
   },
   "outputs": [
    {
     "name": "stdout",
     "output_type": "stream",
     "text": [
      "V.F.: 0.0507\n",
      "REV.: 0.142\n",
      "VIDE: 0.0789\n"
     ]
    }
   ],
   "source": [
    "desi_medians = []\n",
    "for i in range (25):\n",
    "    file_ngc = f'../mocks/altmtl/altmtl{i}_ngc_VoidFinder_Output.fits'\n",
    "    file_sgc = f'../mocks/altmtl/altmtl{i}_sgc_VoidFinder_Output.fits'\n",
    "    v2r = vc.VoidFinderCatalogStacked(['NGC','SGC'],[file_ngc, file_sgc])\n",
    "    median = np.median(np.concatenate([v2r['NGC'].maximals['r_eff'], v2r['SGC'].maximals['r_eff']]))\n",
    "    desi_medians.append(median)\n",
    "print(\"V.F.:\",mknum(np.std(desi_medians)))\n",
    "desi_medians = []\n",
    "for i in range (25):\n",
    "    file_ngc = f'../mocks/altmtl/altmtl{i}_ngc_V2_REVOLVER_Output.fits'\n",
    "    file_sgc = f'../mocks/altmtl/altmtl{i}_sgc_V2_REVOLVER_Output.fits'\n",
    "    v2r = vc.V2CatalogStacked(['NGC','SGC'],[file_ngc, file_sgc])\n",
    "    median = np.median(np.concatenate([v2r['NGC'].voids['radius'], v2r['SGC'].voids['radius']]))\n",
    "    desi_medians.append(median)\n",
    "print(\"REV.:\",mknum(np.std(desi_medians)))\n",
    "desi_medians = []\n",
    "for i in range (25):\n",
    "    file_ngc = f'../mocks/altmtl/altmtl{i}_ngc_V2_VIDE_Output.fits'\n",
    "    file_sgc = f'../mocks/altmtl/altmtl{i}_sgc_V2_VIDE_Output.fits'\n",
    "    v2r = vc.V2CatalogStacked(['NGC','SGC'],[file_ngc, file_sgc])\n",
    "    median = np.median(np.concatenate([v2r['NGC'].voids['radius'], v2r['SGC'].voids['radius']]))\n",
    "    desi_medians.append(median)\n",
    "print(\"VIDE:\",mknum(np.std(desi_medians)))"
   ]
  },
  {
   "cell_type": "code",
   "execution_count": 13,
   "id": "a4652be7-5cb8-4aad-92ee-08d72e16138a",
   "metadata": {
    "tags": []
   },
   "outputs": [
    {
     "name": "stdout",
     "output_type": "stream",
     "text": [
      "V.F.: 0.0689\n",
      "REV.: 0.295\n",
      "VIDE: 0.256\n"
     ]
    }
   ],
   "source": [
    "idx='000'\n",
    "idx_list = [idx]\n",
    "for i in range(24):\n",
    "    idx = idx[0]+idx[1]+str(int(idx[2]) + 1)\n",
    "    if int(idx[2]) == 4:\n",
    "        idx = idx[0] +  str(int(idx[1]) + 1) + '0'\n",
    "\n",
    "        if int(idx[1]) == 4:\n",
    "            idx = str(int(idx[0]) + 1) + '00'\n",
    "    idx_list.append(idx)\n",
    "\n",
    "sdss_medians = []\n",
    "for i in idx_list:\n",
    "    file = f'../mocks/HorizonRun4/HR4_{i}_VoidFinder_Output.fits'\n",
    "    v2r = vc.VoidFinderCatalog(file)\n",
    "    median = np.median(v2r.maximals['r_eff'])\n",
    "    sdss_medians.append(median)\n",
    "print(\"V.F.:\",mknum(np.std(sdss_medians)))\n",
    "\n",
    "sdss_medians = []\n",
    "for i in idx_list:\n",
    "    file = f'../mocks/HorizonRun4/HR4_{i}_V2_REVOLVER_Output.fits'\n",
    "    v2r = vc.V2Catalog(file)\n",
    "    median = np.median(v2r.voids['radius'])\n",
    "    sdss_medians.append(median)\n",
    "print(\"REV.:\",mknum(np.std(sdss_medians)))\n",
    "\n",
    "sdss_medians = []\n",
    "for i in idx_list:\n",
    "    file = f'../mocks/HorizonRun4/HR4_{i}_V2_VIDE_Output.fits'\n",
    "    v2r = vc.V2Catalog(file)\n",
    "    median = np.median(v2r.voids['radius'])\n",
    "    sdss_medians.append(median)\n",
    "print(\"VIDE:\",mknum(np.std(sdss_medians)))"
   ]
  },
  {
   "cell_type": "markdown",
   "id": "8c2e7968-3a2f-457b-b217-e49639919ba4",
   "metadata": {},
   "source": [
    "# DESI-SDSS Overlap Mocks"
   ]
  },
  {
   "cell_type": "code",
   "execution_count": 11,
   "id": "338c6884-4939-480d-b204-3113100ad6d3",
   "metadata": {
    "tags": []
   },
   "outputs": [
    {
     "name": "stdout",
     "output_type": "stream",
     "text": [
      "V.F.: 0.465\n",
      "REV.: 0.403\n",
      "VIDE: 0.647\n"
     ]
    }
   ],
   "source": [
    "desi_medians = []\n",
    "for i in range (25):\n",
    "    file = f'../sdss_compare/CommonMask/altmtl/altmtl{i}_VoidFinder_Output.fits'\n",
    "    v2r = vc.VoidFinderCatalog(file)\n",
    "    median = np.median(v2r.maximals['r_eff'])\n",
    "    desi_medians.append(median)\n",
    "print(\"V.F.:\",mknum(np.std(desi_medians)))\n",
    "desi_medians = []\n",
    "for i in range (25):\n",
    "    file = f'../sdss_compare/CommonMask/altmtl/altmtl{i}_V2_REVOLVER_Output.fits'\n",
    "    v2r = vc.V2Catalog(file)\n",
    "    median = np.median(v2r.voids['radius'])\n",
    "    desi_medians.append(median)\n",
    "print(\"REV.:\",mknum(np.std(desi_medians)))\n",
    "desi_medians = []\n",
    "for i in range (25):\n",
    "    file = f'../sdss_compare/CommonMask/altmtl/altmtl{i}_V2_VIDE_Output.fits'\n",
    "    v2r = vc.V2Catalog(file)\n",
    "    median = np.median(v2r.voids['radius'])\n",
    "    desi_medians.append(median)\n",
    "print(\"VIDE:\",mknum(np.std(desi_medians)))"
   ]
  },
  {
   "cell_type": "code",
   "execution_count": 14,
   "id": "d40e3dba-4d9b-4947-b808-5b807f5a36b2",
   "metadata": {
    "tags": []
   },
   "outputs": [
    {
     "name": "stdout",
     "output_type": "stream",
     "text": [
      "V.F.: 0.416\n",
      "REV.: 0.483\n",
      "VIDE: 0.551\n"
     ]
    }
   ],
   "source": [
    "\n",
    "idx='000'\n",
    "idx_list = [idx]\n",
    "for i in range(24):\n",
    "    idx = idx[0]+idx[1]+str(int(idx[2]) + 1)\n",
    "    if int(idx[2]) == 4:\n",
    "        idx = idx[0] +  str(int(idx[1]) + 1) + '0'\n",
    "\n",
    "        if int(idx[1]) == 4:\n",
    "            idx = str(int(idx[0]) + 1) + '00'\n",
    "    idx_list.append(idx)\n",
    "\n",
    "sdss_medians = []\n",
    "for i in idx_list:\n",
    "    file = f'../sdss_compare/CommonMask/HR4/HR4_{i}_VoidFinder_Output.fits'\n",
    "    v2r = vc.VoidFinderCatalog(file)\n",
    "    median = np.median(v2r.maximals['r_eff'])\n",
    "    sdss_medians.append(median)\n",
    "print(\"V.F.:\",mknum(np.std(sdss_medians)))\n",
    "\n",
    "sdss_medians = []\n",
    "for i in idx_list:\n",
    "    file = f'../sdss_compare/CommonMask/HR4/HR4_{i}_V2_REVOLVER_Output.fits'\n",
    "    v2r = vc.V2Catalog(file)\n",
    "    median = np.median(v2r.voids['radius'])\n",
    "    sdss_medians.append(median)\n",
    "print(\"REV.:\",mknum(np.std(sdss_medians)))\n",
    "\n",
    "sdss_medians = []\n",
    "for i in idx_list:\n",
    "    file = f'../sdss_compare/CommonMask/HR4/HR4_{i}_V2_VIDE_Output.fits'\n",
    "    v2r = vc.V2Catalog(file)\n",
    "    median = np.median(v2r.voids['radius'])\n",
    "    sdss_medians.append(median)\n",
    "print(\"VIDE:\",mknum(np.std(sdss_medians)))"
   ]
  },
  {
   "cell_type": "code",
   "execution_count": null,
   "id": "450572c7-ea6c-4639-9ab2-8e8c6d5c2614",
   "metadata": {},
   "outputs": [],
   "source": []
  }
 ],
 "metadata": {
  "kernelspec": {
   "display_name": "DESI main",
   "language": "python",
   "name": "desi-main"
  },
  "language_info": {
   "codemirror_mode": {
    "name": "ipython",
    "version": 3
   },
   "file_extension": ".py",
   "mimetype": "text/x-python",
   "name": "python",
   "nbconvert_exporter": "python",
   "pygments_lexer": "ipython3",
   "version": "3.10.14"
  }
 },
 "nbformat": 4,
 "nbformat_minor": 5
}
