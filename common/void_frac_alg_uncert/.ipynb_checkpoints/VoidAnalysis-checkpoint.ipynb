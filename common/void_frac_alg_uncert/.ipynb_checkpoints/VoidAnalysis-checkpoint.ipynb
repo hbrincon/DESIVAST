{
 "cells": [
  {
   "cell_type": "code",
   "execution_count": 42,
   "id": "be59827e-b0b9-421f-a10e-9337f1d0caff",
   "metadata": {
    "tags": []
   },
   "outputs": [],
   "source": [
    "import numpy as np\n",
    "import json\n",
    "from astropy.table import Table, vstack, join\n",
    "from astropy.io import fits\n",
    "\n",
    "import sys\n",
    "sys.path.insert(1, '/global/homes/h/hrincon/python_tools')\n",
    "import VoidVolume as vol\n",
    "import VoidOverlap as vo\n",
    "import VoidCatalog as vc\n",
    "\n",
    "from vast.voidfinder.postprocessing import mknum"
   ]
  },
  {
   "cell_type": "code",
   "execution_count": 2,
   "id": "c6c9424c-e413-4ee2-baa7-133bee169e63",
   "metadata": {
    "tags": []
   },
   "outputs": [],
   "source": [
    "iron_ngc_path = '/global/homes/h/hrincon/DESIVAST/galaxy_catalog/iron_ngc.fits'\n",
    "iron_sgc_path = '/global/homes/h/hrincon/DESIVAST/galaxy_catalog/iron_sgc.fits'\n",
    "\n",
    "#VoidFinder\n",
    "voids_ngc_path = '/global/homes/h/hrincon/DESIVAST/VoidFinder/DESIVAST_NGC_VoidFinder_Output.fits'\n",
    "voids_sgc_path = '/global/homes/h/hrincon/DESIVAST/VoidFinder/DESIVAST_SGC_VoidFinder_Output.fits'\n",
    "\n",
    "vfc = vc.VoidFinderCatalogStacked(['NGC','SGC'],[voids_ngc_path,voids_sgc_path])\n",
    "vfc.add_galaxies([iron_ngc_path,iron_sgc_path])  \n",
    "\n",
    "#VIDE\n",
    "voids_ngc_path = '/global/homes/h/hrincon/DESIVAST/V2/DESIVAST_NGC_V2_VIDE_Output.fits'\n",
    "voids_sgc_path = '/global/homes/h/hrincon/DESIVAST/V2/DESIVAST_SGC_V2_VIDE_Output.fits'\n",
    "\n",
    "v2v = vc.V2CatalogStacked(['NGC','SGC'],[voids_ngc_path,voids_sgc_path])\n",
    "v2v.add_galaxies([iron_ngc_path,iron_sgc_path]) \n",
    "\n",
    "#REVOLVER\n",
    "voids_ngc_path = '/global/homes/h/hrincon/DESIVAST/V2/DESIVAST_NGC_V2_REVOLVER_Output.fits'\n",
    "voids_sgc_path = '/global/homes/h/hrincon/DESIVAST/V2/DESIVAST_SGC_V2_REVOLVER_Output.fits'\n",
    "\n",
    "v2r = vc.V2CatalogStacked(['NGC','SGC'],[voids_ngc_path,voids_sgc_path])\n",
    "v2r.add_galaxies([iron_ngc_path,iron_sgc_path]) "
   ]
  },
  {
   "cell_type": "code",
   "execution_count": 4,
   "id": "2847adde-4981-440c-b81e-1b453fec11a8",
   "metadata": {
    "tags": []
   },
   "outputs": [],
   "source": [
    "masks_path = '/global/homes/h/hrincon/DESIVAST/galaxy_catalog/mask/alt_masks/masks.fits'\n",
    "\n",
    "masks = fits.open(masks_path)"
   ]
  },
  {
   "cell_type": "markdown",
   "id": "8c2e7968-3a2f-457b-b217-e49639919ba4",
   "metadata": {},
   "source": [
    "# Volume Overlap"
   ]
  },
  {
   "cell_type": "code",
   "execution_count": 117,
   "id": "f17ce315-492b-442b-8acf-270a3ec39a9b",
   "metadata": {
    "tags": []
   },
   "outputs": [],
   "source": [
    "with open('/global/homes/h/hrincon/DESIVAST/common/analysis/void_frac.json') as f:\n",
    "    void_frac = json.load(f)\n",
    "    void_frac['DESI']['VF/VV'] = void_frac['DESI']['VF/VV']['Shared']\n",
    "    void_frac['DESI']['VF/VR'] = void_frac['DESI']['VF/VR']['Shared']\n",
    "    void_frac['DESI']['VV/VR'] = void_frac['DESI']['VV/VR']['Shared']\n",
    "    void_frac['SDSS']['VF/VV'] = void_frac['SDSS']['VF/VV']['Shared']\n",
    "    void_frac['SDSS']['VF/VR'] = void_frac['SDSS']['VF/VR']['Shared']\n",
    "    void_frac['SDSS']['VV/VR'] = void_frac['SDSS']['VV/VR']['Shared']\n",
    "with open('/global/homes/h/hrincon/DESIVAST/mocks/altmtl/analysis/void_frac.json') as f:\n",
    "    void_frac_mock = json.load(f)\n",
    "    for i in range(25):\n",
    "        void_frac_mock[f'VF/VV ({i})'] = void_frac_mock[f'VF/VV ({i})']['Shared']\n",
    "        void_frac_mock[f'VF/VR ({i})'] = void_frac_mock[f'VF/VR ({i})']['Shared']\n",
    "        void_frac_mock[f'VV/VR ({i})'] = void_frac_mock[f'VV/VR ({i})']['Shared']    \n",
    "with open('/global/homes/h/hrincon/DESIVAST/alt_mag_cuts/analysis/void_frac.json') as f:\n",
    "    void_frac_mag = json.load(f)\n",
    "    for mag in (-19.89, -20.06):\n",
    "        void_frac_mag['DESI'][f'VF/VV ({mag}) '] = void_frac_mag['DESI'][f'VF/VV ({mag}) ']['Shared']\n",
    "        void_frac_mag['DESI'][f'VF/VR ({mag}) '] = void_frac_mag['DESI'][f'VF/VR ({mag}) ']['Shared']\n",
    "        void_frac_mag['DESI'][f'VV/VR ({mag}) '] = void_frac_mag['DESI'][f'VV/VR ({mag}) ']['Shared']\n",
    "        void_frac_mag['SDSS'][f'VF/VV ({mag}) '] = void_frac_mag['SDSS'][f'VF/VV ({mag}) ']['Shared']\n",
    "        void_frac_mag['SDSS'][f'VF/VR ({mag}) '] = void_frac_mag['SDSS'][f'VF/VR ({mag}) ']['Shared']\n",
    "        void_frac_mag['SDSS'][f'VV/VR ({mag}) '] = void_frac_mag['SDSS'][f'VV/VR ({mag}) ']['Shared']\n",
    "        \n",
    "        "
   ]
  },
  {
   "cell_type": "code",
   "execution_count": 108,
   "id": "e41830f4-34b5-4b7d-b4b9-14b737aaaaff",
   "metadata": {
    "tags": []
   },
   "outputs": [],
   "source": [
    "def report_void_frac(algorithm):\n",
    "    frac = void_frac['DESI'][f'{algorithm}']\n",
    "    mock_trials = [void_frac_mock[f'{algorithm} ({x})'] for x in range(25)]\n",
    "    mock_uncert = np.std(mock_trials)\n",
    "    mag_uncert_low = void_frac_mag['DESI'][f'{algorithm} (-19.89) ']-frac\n",
    "    mag_uncert_high = void_frac_mag['DESI'][f'{algorithm} (-20.06) ']-frac\n",
    "    uncert_low = [mock_uncert]\n",
    "    uncert_high = [mock_uncert]\n",
    "    uncert_low.append(mag_uncert_low) if mag_uncert_low < 0 else uncert_high.append(mag_uncert_low)\n",
    "    uncert_low.append(mag_uncert_high) if mag_uncert_high < 0 else uncert_high.append(mag_uncert_high)\n",
    "    uncert_low = sum_quad(uncert_low )\n",
    "    uncert_high = sum_quad(uncert_high)\n",
    "    print(algorithm,': (',mknum(frac),'+',mknum(uncert_high),'-', mknum(uncert_low), ') %')"
   ]
  },
  {
   "cell_type": "code",
   "execution_count": 109,
   "id": "7e325c48-579b-4d11-b5a2-5186f52a817b",
   "metadata": {
    "tags": []
   },
   "outputs": [],
   "source": [
    "def report_void_frac_sdss(algorithm):\n",
    "    frac = void_frac['SDSS'][f'{algorithm}']\n",
    "    mag_uncert_low = void_frac_mag['SDSS'][f'{algorithm} (-19.89) ']-frac\n",
    "    mag_uncert_high = void_frac_mag['SDSS'][f'{algorithm} (-20.06) ']-frac\n",
    "    if mag_uncert_low > 0:\n",
    "        mag_uncert_low, mag_unert_high = mag_uncert_high, mag_uncert_low\n",
    "    print(algorithm,': (',mknum(frac),'+',mknum(mag_uncert_high),'-', mknum(-mag_uncert_low), ') %')"
   ]
  },
  {
   "cell_type": "code",
   "execution_count": 110,
   "id": "63097e22-0822-49c8-a6c9-e77a5ae6ac88",
   "metadata": {
    "tags": []
   },
   "outputs": [
    {
     "name": "stdout",
     "output_type": "stream",
     "text": [
      "VF : ( 59.82 + 1.4 - 3.07 ) %\n",
      "VV : ( 69.53 + 3.37 - 3.05 ) %\n",
      "VR : ( 99.22 + 0.242 - 0.282 ) %\n",
      "VF/VV : ( 0.417 + 0.0204 - 0.0243 ) %\n",
      "VF/VR : ( 0.594 + 0.014 - 0.031 ) %\n",
      "VV/VR : ( 0.695 + 0.0337 - 0.0305 ) %\n"
     ]
    }
   ],
   "source": [
    "report_void_frac('VF')\n",
    "report_void_frac('VV')\n",
    "report_void_frac('VR')\n",
    "report_void_frac('VF/VV')\n",
    "report_void_frac('VF/VR')\n",
    "report_void_frac('VV/VR')"
   ]
  },
  {
   "cell_type": "code",
   "execution_count": 118,
   "id": "9b5a4012-a09f-43e0-bf49-008d329ed2ff",
   "metadata": {
    "tags": []
   },
   "outputs": [
    {
     "name": "stdout",
     "output_type": "stream",
     "text": [
      "VF : ( 60.91 + 0.729 - 1.82 ) %\n",
      "VV : ( 67.98 + 1.76 - 0.687 ) %\n",
      "VR : ( 90.61 + -0.219 - 0.219 ) %\n",
      "VF/VV : ( 0.411 + 0.0214 - 0.00935 ) %\n",
      "VF/VR : ( 0.565 + 0.00559 - 0.0141 ) %\n",
      "VV/VR : ( 0.631 + 0.0167 - 0.00198 ) %\n"
     ]
    }
   ],
   "source": [
    "report_void_frac_sdss('VF')\n",
    "report_void_frac_sdss('VV')\n",
    "report_void_frac_sdss('VR')\n",
    "report_void_frac_sdss('VF/VV')\n",
    "report_void_frac_sdss('VF/VR')\n",
    "report_void_frac_sdss('VV/VR')"
   ]
  },
  {
   "cell_type": "code",
   "execution_count": 9,
   "id": "6acde55f-7ddc-47a8-a019-fd9a2e9a102f",
   "metadata": {
    "tags": []
   },
   "outputs": [
    {
     "name": "stdout",
     "output_type": "stream",
     "text": [
      "Shared volume: 0.3856293630486429\n",
      "Cat 1 volume: 0.6640533002051908\n",
      "Cat 2 volume: 0.5739411908384098\n"
     ]
    }
   ],
   "source": [
    "# VIDE-VoidFinder Overlap\n",
    "v2v_vf_ngc = vc.get_overlap(v2v['NGC'], vfc['NGC'], v2v['NGC'].galaxies, \n",
    "                            masks['NGCFID'])\n",
    "v2v_vf_sgc = vc.get_overlap(v2v['SGC'], vfc['SGC'], v2v['SGC'].galaxies, \n",
    "                            masks['SGCFID'])\n",
    "vc.combine_overlaps([v2v_vf_ngc, v2v_vf_sgc])"
   ]
  },
  {
   "cell_type": "code",
   "execution_count": 7,
   "id": "1531dd41-a89b-4a91-bbf4-2ab30a82601d",
   "metadata": {
    "tags": []
   },
   "outputs": [
    {
     "name": "stdout",
     "output_type": "stream",
     "text": [
      "Shared volume: 0.5557891154657868\n",
      "Cat 1 volume: 0.9583346155851689\n",
      "Cat 2 volume: 0.5746657530812923\n"
     ]
    }
   ],
   "source": [
    "# REVOLVER-VoidFinder Overlap\n",
    "v2r_vf_ngc = vc.get_overlap(v2r['NGC'], vfc['NGC'], v2r['NGC'].galaxies, \n",
    "                            masks['NGCFID'])\n",
    "v2r_vf_sgc = vc.get_overlap(v2r['SGC'], vfc['SGC'], v2r['SGC'].galaxies, \n",
    "                            masks['SGCFID'])\n",
    "vc.combine_overlaps([v2r_vf_ngc, v2r_vf_sgc])"
   ]
  },
  {
   "cell_type": "code",
   "execution_count": 5,
   "id": "c8c2aaa5-7bbe-4c13-98ab-e7792a5e23ef",
   "metadata": {
    "tags": []
   },
   "outputs": [
    {
     "name": "stdout",
     "output_type": "stream",
     "text": [
      "Shared volume: 0.6640943200665246\n",
      "Cat 1 volume: 0.6641756645373053\n",
      "Cat 2 volume: 0.957480699899097\n"
     ]
    }
   ],
   "source": [
    "# VIDE-REVOLVER Overlap\n",
    "v2v_v2r_ngc = vc.get_overlap(v2v['NGC'], v2r['NGC'], v2v['NGC'].galaxies, \n",
    "                            masks['NGCFID'])\n",
    "v2v_v2r_sgc = vc.get_overlap(v2v['SGC'], v2r['SGC'], v2v['SGC'].galaxies, \n",
    "                            masks['SGCFID'])\n",
    "vc.combine_overlaps([v2v_v2r_ngc, v2v_v2r_sgc])"
   ]
  },
  {
   "cell_type": "markdown",
   "id": "fae5dbfa-74a7-4e72-a05b-9e47b577f9ea",
   "metadata": {},
   "source": [
    "# Galaxy Membership"
   ]
  },
  {
   "cell_type": "code",
   "execution_count": 57,
   "id": "c2827644-6bdc-4775-84c8-da311a9cb1e9",
   "metadata": {
    "tags": []
   },
   "outputs": [],
   "source": [
    "with open('/global/homes/h/hrincon/DESIVAST/common/analysis/gal_frac.json') as f:\n",
    "    gal_frac = json.load(f)\n",
    "with open('/global/homes/h/hrincon/DESIVAST/mocks/altmtl/analysis/gal_frac.json') as f:\n",
    "    gal_frac_mock = json.load(f)\n",
    "with open('/global/homes/h/hrincon/DESIVAST/alt_mag_cuts/analysis/gal_frac.json') as f:\n",
    "    gal_frac_mag = json.load(f)"
   ]
  },
  {
   "cell_type": "code",
   "execution_count": 47,
   "id": "6081fa1d-772b-40cb-bedf-70b463b80938",
   "metadata": {
    "tags": []
   },
   "outputs": [],
   "source": [
    "def sum_quad(lis):\n",
    "    arr = np.array(lis)**2\n",
    "    arr = np.sum(arr)\n",
    "    arr = np.sqrt(arr)\n",
    "    return arr\n",
    "    "
   ]
  },
  {
   "cell_type": "code",
   "execution_count": 103,
   "id": "21de8ad9-c436-45f0-879a-abab54693b72",
   "metadata": {
    "tags": []
   },
   "outputs": [],
   "source": [
    "def report_gal_frac(algorithm):\n",
    "    frac = gal_frac['DESI'][f'{algorithm}']\n",
    "    mock_trials = [gal_frac_mock[f'{algorithm} ({x})'] for x in range(25)]\n",
    "    mock_uncert = np.std(mock_trials)\n",
    "    mag_uncert_low = gal_frac_mag['DESI'][f'{algorithm} (-19.89)']-frac\n",
    "    mag_uncert_high = gal_frac_mag['DESI'][f'{algorithm} (-20.06)']-frac\n",
    "    uncert_low = [mock_uncert]\n",
    "    uncert_high = [mock_uncert]\n",
    "    uncert_low.append(mag_uncert_low) if mag_uncert_low < 0 else uncert_high.append(mag_uncert_low)\n",
    "    uncert_low.append(mag_uncert_high) if mag_uncert_high < 0 else uncert_high.append(mag_uncert_high)\n",
    "    uncert_low = sum_quad(uncert_low )\n",
    "    uncert_high = sum_quad(uncert_high)\n",
    "    print(algorithm,': (',mknum(frac),'+',mknum(uncert_high),'-', mknum(uncert_low), ') %')"
   ]
  },
  {
   "cell_type": "code",
   "execution_count": 83,
   "id": "1ccb8ae4-1b1f-4703-91d3-c3d5c15aaf48",
   "metadata": {
    "tags": []
   },
   "outputs": [],
   "source": [
    "def report_gal_frac_sdss(algorithm):\n",
    "    frac = gal_frac['SDSS'][f'{algorithm}']\n",
    "    mag_uncert_low = gal_frac_mag['SDSS'][f'{algorithm} (-19.89)']-frac\n",
    "    mag_uncert_high = gal_frac_mag['SDSS'][f'{algorithm} (-20.06)']-frac\n",
    "    if mag_uncert_low > 0:\n",
    "        mag_uncert_low, mag_uncert_high = mag_uncert_high, mag_uncert_low\n",
    "    print(algorithm,': (',mknum(frac),'+',mknum(mag_uncert_high),'-', mknum(-mag_uncert_low), ') %')"
   ]
  },
  {
   "cell_type": "code",
   "execution_count": 104,
   "id": "707e4d34-17a9-4820-aeef-61f10847b178",
   "metadata": {
    "tags": []
   },
   "outputs": [
    {
     "name": "stdout",
     "output_type": "stream",
     "text": [
      "VF : ( 20.13 + 1.3 - 2.19 ) %\n",
      "VV : ( 70.01 + 2.87 - 2.72 ) %\n",
      "VR : ( 99.21 + 0.254 - 0.33 ) %\n",
      "VF/VV : ( 14.49 + 0.874 - 1.66 ) %\n",
      "VF/VR : ( 20.06 + 1.29 - 2.2 ) %\n",
      "VV/VR : ( 70.01 + 2.86 - 2.72 ) %\n"
     ]
    }
   ],
   "source": [
    "report_gal_frac('VF')\n",
    "report_gal_frac('VV')\n",
    "report_gal_frac('VR')\n",
    "report_gal_frac('VF/VV')\n",
    "report_gal_frac('VF/VR')\n",
    "report_gal_frac('VV/VR')\n"
   ]
  },
  {
   "cell_type": "code",
   "execution_count": 105,
   "id": "67edb02c-027e-4364-a9ce-44abdfedcea0",
   "metadata": {},
   "outputs": [
    {
     "name": "stdout",
     "output_type": "stream",
     "text": [
      "VF : ( 18.83 + 0.658 - 1.29 ) %\n",
      "VV : ( 69.11 + 0.827 - 2.41 ) %\n",
      "VR : ( 88.96 + 0.212 - 0.404 ) %\n",
      "VF/VV : ( 13.0 + 0.96 - 0.908 ) %\n",
      "VF/VR : ( 17.6 + 0.535 - 1.1 ) %\n",
      "VV/VR : ( 62.84 + 0.251 - 1.82 ) %\n"
     ]
    }
   ],
   "source": [
    "report_gal_frac_sdss('VF')\n",
    "report_gal_frac_sdss('VV')\n",
    "report_gal_frac_sdss('VR')\n",
    "report_gal_frac_sdss('VF/VV')\n",
    "report_gal_frac_sdss('VF/VR')\n",
    "report_gal_frac_sdss('VV/VR')\n"
   ]
  },
  {
   "cell_type": "code",
   "execution_count": null,
   "id": "dc4daa23-b6bb-474e-be26-6b1d4696cdd0",
   "metadata": {},
   "outputs": [],
   "source": []
  }
 ],
 "metadata": {
  "kernelspec": {
   "display_name": "DESI main",
   "language": "python",
   "name": "desi-main"
  },
  "language_info": {
   "codemirror_mode": {
    "name": "ipython",
    "version": 3
   },
   "file_extension": ".py",
   "mimetype": "text/x-python",
   "name": "python",
   "nbconvert_exporter": "python",
   "pygments_lexer": "ipython3",
   "version": "3.10.14"
  }
 },
 "nbformat": 4,
 "nbformat_minor": 5
}
