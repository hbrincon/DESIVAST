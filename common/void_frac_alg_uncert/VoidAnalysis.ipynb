{
 "cells": [
  {
   "cell_type": "code",
   "execution_count": 2,
   "id": "be59827e-b0b9-421f-a10e-9337f1d0caff",
   "metadata": {
    "tags": []
   },
   "outputs": [],
   "source": [
    "import numpy as np\n",
    "import json\n",
    "\n",
    "from vast.voidfinder.postprocessing import mknum"
   ]
  },
  {
   "cell_type": "code",
   "execution_count": 4,
   "id": "2847adde-4981-440c-b81e-1b453fec11a8",
   "metadata": {
    "tags": []
   },
   "outputs": [],
   "source": [
    "masks_path = '/global/homes/h/hrincon/DESIVAST/galaxy_catalog/mask/alt_masks/masks.fits'\n",
    "\n",
    "masks = fits.open(masks_path)"
   ]
  },
  {
   "cell_type": "markdown",
   "id": "8c2e7968-3a2f-457b-b217-e49639919ba4",
   "metadata": {},
   "source": [
    "# Volume Overlap\n",
    "\n",
    "This notebook estimates the uncertainty in reported void fractions due to the grid offset"
   ]
  },
  {
   "cell_type": "code",
   "execution_count": 3,
   "id": "f17ce315-492b-442b-8acf-270a3ec39a9b",
   "metadata": {
    "tags": []
   },
   "outputs": [],
   "source": [
    "with open('/global/homes/h/hrincon/DESIVAST/common/void_frac_alg_uncert/void_frac.json') as f:\n",
    "    void_frac = json.load(f)"
   ]
  },
  {
   "cell_type": "code",
   "execution_count": 5,
   "id": "2091e8d5-edbe-41a9-b892-955de525cc3e",
   "metadata": {
    "tags": []
   },
   "outputs": [],
   "source": [
    "vf = [void_frac[f'VF ({i})'] for i in range(25)]\n",
    "vv = [void_frac[f'VV ({i})'] for i in range(25)]\n",
    "vr = [void_frac[f'VR ({i})'] for i in range(25)]"
   ]
  },
  {
   "cell_type": "code",
   "execution_count": 7,
   "id": "ddcda13b-3449-4dbd-9953-6048826af9bf",
   "metadata": {
    "tags": []
   },
   "outputs": [
    {
     "name": "stdout",
     "output_type": "stream",
     "text": [
      "VF: +/- 0.0043 %\n",
      "VV: +/- 0.00484 %\n",
      "VR: +/- 0.00248 %\n"
     ]
    }
   ],
   "source": [
    "print('VF: +/-',mknum(np.std(vf)),'%')\n",
    "print('VV: +/-',mknum(np.std(vv)),'%')\n",
    "print('VR: +/-',mknum(np.std(vr)),'%')"
   ]
  },
  {
   "cell_type": "code",
   "execution_count": null,
   "id": "dc4daa23-b6bb-474e-be26-6b1d4696cdd0",
   "metadata": {},
   "outputs": [],
   "source": []
  }
 ],
 "metadata": {
  "kernelspec": {
   "display_name": "DESI main",
   "language": "python",
   "name": "desi-main"
  },
  "language_info": {
   "codemirror_mode": {
    "name": "ipython",
    "version": 3
   },
   "file_extension": ".py",
   "mimetype": "text/x-python",
   "name": "python",
   "nbconvert_exporter": "python",
   "pygments_lexer": "ipython3",
   "version": "3.10.14"
  }
 },
 "nbformat": 4,
 "nbformat_minor": 5
}
