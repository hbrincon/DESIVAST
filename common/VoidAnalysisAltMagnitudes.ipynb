{
 "cells": [
  {
   "cell_type": "code",
   "execution_count": 1,
   "id": "be59827e-b0b9-421f-a10e-9337f1d0caff",
   "metadata": {
    "tags": []
   },
   "outputs": [
    {
     "name": "stderr",
     "output_type": "stream",
     "text": [
      "<frozen importlib._bootstrap>:241: RuntimeWarning: vast.voidfinder._voidfinder_cython_find_next.SpatialMap size changed, may indicate binary incompatibility. Expected 1848 from C header, got 2272 from PyObject\n"
     ]
    }
   ],
   "source": [
    "import numpy as np\n",
    "import healpy as hp\n",
    "import json\n",
    "from astropy.table import Table, vstack, join\n",
    "from astropy.io import fits\n",
    "import matplotlib.pyplot as plt\n",
    "\n",
    "import sys\n",
    "sys.path.insert(1, '/global/homes/h/hrincon/python_tools')\n",
    "import VoidVolume as vol\n",
    "import VoidOverlap as vo\n",
    "import VoidCatalog as vc\n",
    "import VoidSlicePlots as vsp\n",
    "\n",
    "from vast.voidfinder.postprocessing import mknum"
   ]
  },
  {
   "cell_type": "markdown",
   "id": "4030f949-c3e4-4d2d-a44c-81959f758905",
   "metadata": {},
   "source": [
    "# Read in Void Catalogs"
   ]
  },
  {
   "cell_type": "code",
   "execution_count": 2,
   "id": "c6c9424c-e413-4ee2-baa7-133bee169e63",
   "metadata": {
    "tags": []
   },
   "outputs": [
    {
     "name": "stdout",
     "output_type": "stream",
     "text": [
      "\n",
      "Magnitudes: -19.89 -19.94 \n",
      "\n",
      "\n",
      "\u001b[31mDESI VoidFinder\u001b[0m \n",
      "\n",
      "3736 voids\n",
      "2205 edge voids\n",
      "58 near-edge voids\n",
      "1473 interior voids\n",
      "Mean Reff (V. Fid): 16.41 +/- 0.0488 Mpc/h\n",
      "Median Reff (V. Fid): 15.68 +/- 0.0612 Mpc/h\n",
      "Maximum Reff (V. Fid): 30.92 Mpc/h\n",
      "\n",
      "\u001b[31mDESI VIDE\u001b[0m \n",
      "\n",
      "1581 voids\n",
      "Mean Reff (V. Fid): 20.45 +/- 0.203 Mpc/h\n",
      "Median Reff (V. Fid): 18.33 +/- 0.255 Mpc/h\n",
      "Maximum Reff (V. Fid): 53.67 Mpc/h\n",
      "\n",
      "\u001b[31mDESI REVOVLER\u001b[0m \n",
      "\n",
      "2143 voids\n",
      "Mean Reff (V. Fid): 19.95 +/- 0.139 Mpc/h\n",
      "Median Reff (V. Fid): 19.13 +/- 0.174 Mpc/h\n",
      "Maximum Reff (V. Fid): 39.63 Mpc/h\n",
      "\n",
      "\u001b[31mSDSS VoidFinder\u001b[0m \n",
      "\n",
      "1163 voids\n",
      "339 edge voids\n",
      "20 near-edge voids\n",
      "804 interior voids\n",
      "6 edge voids (V. Fid)\n",
      "0 near-edge voids (V. Fid)\n",
      "677 interior voids (V. Fid)\n",
      "Mean Reff (V. Fid): 16.48 +/- 0.0893 Mpc/h\n",
      "Median Reff (V. Fid): 15.74 +/- 0.112 Mpc/h\n",
      "Maximum Reff (V. Fid): 28.98 Mpc/h\n",
      "\n",
      "\u001b[31mSDSS VIDE\u001b[0m \n",
      "\n",
      "532 voids\n",
      "Mean Reff (V. Fid): 19.84 +/- 0.326 Mpc/h\n",
      "Median Reff (V. Fid): 18.24 +/- 0.408 Mpc/h\n",
      "Maximum Reff (V. Fid): 51.2 Mpc/h\n",
      "\n",
      "\u001b[31mSDSS REVOLVER\u001b[0m \n",
      "\n",
      "715 voids\n",
      "Mean Reff (V. Fid): 19.38 +/- 0.233 Mpc/h\n",
      "Median Reff (V. Fid): 18.53 +/- 0.292 Mpc/h\n",
      "Maximum Reff (V. Fid): 40.4 Mpc/h\n",
      "\n",
      "Magnitudes: -20.06 -20.11 \n",
      "\n",
      "\n",
      "\u001b[31mDESI VoidFinder\u001b[0m \n",
      "\n",
      "3807 voids\n",
      "2235 edge voids\n",
      "50 near-edge voids\n",
      "1522 interior voids\n",
      "Mean Reff (V. Fid): 16.56 +/- 0.0531 Mpc/h\n",
      "Median Reff (V. Fid): 15.59 +/- 0.0665 Mpc/h\n",
      "Maximum Reff (V. Fid): 31.76 Mpc/h\n",
      "\n",
      "\u001b[31mDESI VIDE\u001b[0m \n",
      "\n",
      "1453 voids\n",
      "Mean Reff (V. Fid): 20.96 +/- 0.219 Mpc/h\n",
      "Median Reff (V. Fid): 18.59 +/- 0.274 Mpc/h\n",
      "Maximum Reff (V. Fid): 56.61 Mpc/h\n",
      "\n",
      "\u001b[31mDESI REVOVLER\u001b[0m \n",
      "\n",
      "1948 voids\n",
      "Mean Reff (V. Fid): 20.66 +/- 0.155 Mpc/h\n",
      "Median Reff (V. Fid): 19.92 +/- 0.194 Mpc/h\n",
      "Maximum Reff (V. Fid): 42.92 Mpc/h\n",
      "\n",
      "\u001b[31mSDSS VoidFinder\u001b[0m \n",
      "\n",
      "1200 voids\n",
      "374 edge voids\n",
      "11 near-edge voids\n",
      "815 interior voids\n",
      "8 edge voids (V. Fid)\n",
      "0 near-edge voids (V. Fid)\n",
      "675 interior voids (V. Fid)\n",
      "Mean Reff (V. Fid): 16.73 +/- 0.0929 Mpc/h\n",
      "Median Reff (V. Fid): 16.0 +/- 0.116 Mpc/h\n",
      "Maximum Reff (V. Fid): 30.7 Mpc/h\n",
      "\n",
      "\u001b[31mSDSS VIDE\u001b[0m \n",
      "\n",
      "496 voids\n",
      "Mean Reff (V. Fid): 20.81 +/- 0.419 Mpc/h\n",
      "Median Reff (V. Fid): 18.06 +/- 0.525 Mpc/h\n",
      "Maximum Reff (V. Fid): 78.79 Mpc/h\n",
      "\n",
      "\u001b[31mSDSS REVOLVER\u001b[0m \n",
      "\n",
      "660 voids\n",
      "Mean Reff (V. Fid): 19.9 +/- 0.268 Mpc/h\n",
      "Median Reff (V. Fid): 18.47 +/- 0.335 Mpc/h\n",
      "Maximum Reff (V. Fid): 40.63 Mpc/h\n"
     ]
    }
   ],
   "source": [
    "#DESI\n",
    "#------\n",
    "redtext = lambda x: f\"\\x1b[31m{x}\\x1b[0m\"\n",
    "\n",
    "for desi_mag, sdss_mag in zip([-19.89, -20.06], [-19.94, -20.11]):\n",
    "\n",
    "    print(\"\\nMagnitudes:\", desi_mag, sdss_mag,'\\n')\n",
    "\n",
    "    desi_mag = np.abs(desi_mag)\n",
    "    sdss_mag = np.abs(sdss_mag)\n",
    "    \n",
    "    iron_smoothed_ngc_path = f'../galaxy_catalog/iron_smoothed_ngc.fits'\n",
    "    iron_smoothed_sgc_path = f'../galaxy_catalog/iron_smoothed_sgc.fits'\n",
    "\n",
    "    #VoidFinder\n",
    "    voids_ngc_path = f'../voids/data/minus{desi_mag}/DESIVAST_NGC_VoidFinder_Output.fits'\n",
    "    voids_sgc_path = f'../voids/data/minus{desi_mag}/DESIVAST_SGC_VoidFinder_Output.fits'\n",
    "\n",
    "    vfc = vc.VoidFinderCatalogStacked(['NGC','SGC'],[voids_ngc_path,voids_sgc_path])\n",
    "    vfc.add_galaxies([iron_smoothed_ngc_path,iron_smoothed_sgc_path])  \n",
    "\n",
    "    #VIDE\n",
    "    voids_ngc_path = f'../voids/data/minus{desi_mag}/DESIVAST_NGC_V2_VIDE_Output.fits'\n",
    "    voids_sgc_path = f'../voids/data/minus{desi_mag}/DESIVAST_SGC_V2_VIDE_Output.fits'\n",
    "\n",
    "    v2v = vc.V2CatalogStacked(['NGC','SGC'],[voids_ngc_path,voids_sgc_path])\n",
    "    v2v.add_galaxies([iron_smoothed_ngc_path,iron_smoothed_sgc_path]) \n",
    "\n",
    "    #REVOLVER\n",
    "    voids_ngc_path = f'../voids/data/minus{desi_mag}/DESIVAST_NGC_V2_REVOLVER_Output.fits'\n",
    "    voids_sgc_path = f'../voids/data/minus{desi_mag}/DESIVAST_SGC_V2_REVOLVER_Output.fits'\n",
    "\n",
    "    v2r = vc.V2CatalogStacked(['NGC','SGC'],[voids_ngc_path,voids_sgc_path])\n",
    "    v2r.add_galaxies([iron_smoothed_ngc_path,iron_smoothed_sgc_path]) \n",
    "\n",
    "    #SDSS\n",
    "    #------\n",
    "    nsa_path= f'../galaxy_catalog/SDSS_galaxies/nsa_k1.fits'\n",
    "\n",
    "    #VoidFinder\n",
    "    voids_ngc_path = f'../voids/data/minus{sdss_mag}/SDSSK1_VoidFinder_Output.fits'\n",
    "\n",
    "    vfc_sdss = vc.VoidFinderCatalog(voids_ngc_path)\n",
    "    vfc_sdss.add_galaxies(nsa_path)  \n",
    "\n",
    "    #VIDE\n",
    "    voids_ngc_path = f'../voids/data/minus{sdss_mag}/SDSSK1_V2_VIDE_Output.fits'\n",
    "\n",
    "    v2v_sdss = vc.V2Catalog(voids_ngc_path)\n",
    "    v2v_sdss.add_galaxies(nsa_path)  \n",
    "\n",
    "    #REVOLVER\n",
    "    voids_ngc_path = f'../voids/data/minus{sdss_mag}/SDSSK1_V2_REVOLVER_Output.fits'\n",
    "\n",
    "    v2r_sdss = vc.V2Catalog(voids_ngc_path)\n",
    "    v2r_sdss.add_galaxies(nsa_path)  \n",
    "    \n",
    "    # copy over masks\n",
    "    \n",
    "    v2r['NGC'].mask = vfc['NGC'].mask\n",
    "    v2r['NGC'].mask_info = vfc['NGC'].mask_info\n",
    "    v2v['NGC'].mask = vfc['NGC'].mask\n",
    "    v2v['NGC'].mask_info = vfc['NGC'].mask_info\n",
    "\n",
    "    v2r['SGC'].mask = vfc['SGC'].mask\n",
    "    v2r['SGC'].mask_info = vfc['SGC'].mask_info\n",
    "    v2v['SGC'].mask = vfc['SGC'].mask\n",
    "    v2v['SGC'].mask_info = vfc['SGC'].mask_info\n",
    "\n",
    "    v2r_sdss.mask = vfc_sdss.mask\n",
    "    v2r_sdss.mask_info = vfc_sdss.mask_info\n",
    "    v2v_sdss.mask = vfc_sdss.mask\n",
    "    v2v_sdss.mask_info = vfc_sdss.mask_info\n",
    "    \n",
    "    print('\\n'+redtext(\"DESI VoidFinder\"),'\\n')\n",
    "    vfc.void_stats(report_individual=False)\n",
    "    print('\\n'+redtext(\"DESI VIDE\"),'\\n')\n",
    "    v2v.void_stats(report_individual=False)\n",
    "    print('\\n'+redtext(\"DESI REVOVLER\"),'\\n')\n",
    "    v2r.void_stats(report_individual=False)\n",
    "    print('\\n'+redtext(\"SDSS VoidFinder\"),'\\n')\n",
    "    vfc_sdss.void_stats()\n",
    "    print('\\n'+redtext(\"SDSS VIDE\"),'\\n')\n",
    "    v2v_sdss.void_stats()\n",
    "    print('\\n'+redtext(\"SDSS REVOLVER\"),'\\n')\n",
    "    v2r_sdss.void_stats()"
   ]
  },
  {
   "cell_type": "code",
   "execution_count": 3,
   "id": "fca18f39-8c12-430d-a436-cd2708c33f38",
   "metadata": {
    "tags": []
   },
   "outputs": [],
   "source": []
  },
  {
   "cell_type": "code",
   "execution_count": 14,
   "id": "9f63b2de-59ba-44f3-b804-cd7eeaf263ee",
   "metadata": {
    "tags": []
   },
   "outputs": [
    {
     "data": {
      "text/plain": [
       "14.703377818524995"
      ]
     },
     "execution_count": 14,
     "metadata": {},
     "output_type": "execute_result"
    }
   ],
   "source": [
    "np.median(\n",
    "    np.array(\n",
    "        vstack(\n",
    "            [vfc['NGC'].maximals[vfc['NGC'].maximals['r']<332], \n",
    "             vfc['SGC'].maximals[vfc['SGC'].maximals['r']<332]]\n",
    "        )['r_eff']\n",
    "    ).astype(float)\n",
    ")"
   ]
  },
  {
   "cell_type": "code",
   "execution_count": 15,
   "id": "01d5127f-7ab3-4ac2-8f24-a98459912546",
   "metadata": {
    "tags": []
   },
   "outputs": [
    {
     "data": {
      "text/plain": [
       "14.419070517469825"
      ]
     },
     "execution_count": 15,
     "metadata": {},
     "output_type": "execute_result"
    }
   ],
   "source": [
    "np.median(\n",
    "    np.array(\n",
    "        vstack(\n",
    "            [v2v['NGC'].voids[v2v['NGC'].voids['redshift']<.114], \n",
    "             v2v['SGC'].voids[v2v['SGC'].voids['redshift']<.114]]\n",
    "        )['radius']\n",
    "    ).astype(float)\n",
    ")"
   ]
  },
  {
   "cell_type": "code",
   "execution_count": 16,
   "id": "af7249fe-de45-4f55-a741-daca1625322d",
   "metadata": {
    "tags": []
   },
   "outputs": [
    {
     "data": {
      "text/plain": [
       "14.57734270426593"
      ]
     },
     "execution_count": 16,
     "metadata": {},
     "output_type": "execute_result"
    }
   ],
   "source": [
    "np.median(\n",
    "    np.array(\n",
    "        vstack(\n",
    "            [v2r['NGC'].voids[v2r['NGC'].voids['redshift']<.114], \n",
    "             v2r['SGC'].voids[v2r['SGC'].voids['redshift']<.114]]\n",
    "        )['radius']\n",
    "    ).astype(float)\n",
    ")"
   ]
  },
  {
   "cell_type": "code",
   "execution_count": 17,
   "id": "2847adde-4981-440c-b81e-1b453fec11a8",
   "metadata": {
    "tags": []
   },
   "outputs": [],
   "source": [
    "masks_path = f'../galaxy_catalog/mask/alt_masks/masks.fits'\n",
    "\n",
    "masks = fits.open(masks_path)"
   ]
  },
  {
   "cell_type": "code",
   "execution_count": null,
   "id": "fdefefd4-b591-447d-aaf8-2054a48a8fbc",
   "metadata": {},
   "outputs": [],
   "source": []
  }
 ],
 "metadata": {
  "kernelspec": {
   "display_name": "DESI main",
   "language": "python",
   "name": "desi-main"
  },
  "language_info": {
   "codemirror_mode": {
    "name": "ipython",
    "version": 3
   },
   "file_extension": ".py",
   "mimetype": "text/x-python",
   "name": "python",
   "nbconvert_exporter": "python",
   "pygments_lexer": "ipython3",
   "version": "3.10.14"
  }
 },
 "nbformat": 4,
 "nbformat_minor": 5
}
