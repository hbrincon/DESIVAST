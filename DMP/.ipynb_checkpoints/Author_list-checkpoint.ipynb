{
 "cells": [
  {
   "cell_type": "code",
   "execution_count": 1,
   "id": "435cf505-4bfe-468f-bfb0-663ec372c3fd",
   "metadata": {
    "tags": []
   },
   "outputs": [],
   "source": [
    "from astropy.cosmology import FlatLambdaCDM\n",
    "import numpy as np\n",
    "import pandas as pd\n",
    "from astropy.table import Table"
   ]
  },
  {
   "cell_type": "code",
   "execution_count": 21,
   "id": "ebc9fce4-3c41-48d9-9b19-fe76ee6b576d",
   "metadata": {
    "tags": []
   },
   "outputs": [],
   "source": [
    "#read in authors\n",
    "authors = pd.read_csv('./DESI-2024-0466_author_list.csv',\n",
    "                  #comment='#', \n",
    "                  #sep=\"\\s+\", \n",
    "                  #    names = ['VoidID', 'RA(deg)', 'Dec(deg)', 'redshift', 'R_eff(Mpc/h)', 'delta_min', \n",
    "                  #             'delta_avg', 'lambda_v', 'DensRatio', 'Theta_eff(deg)', 'EdgeFlag']\n",
    "                     )"
   ]
  },
  {
   "cell_type": "code",
   "execution_count": 50,
   "id": "1698ba25-6b9c-4288-9a6e-5abfd034d457",
   "metadata": {
    "tags": []
   },
   "outputs": [
    {
     "name": "stdout",
     "output_type": "stream",
     "text": [
      "\\author[0009-0001-1962-3924]{Hernan Rincon}\n",
      "\\affiliation{Department of Physics \\& Astronomy, University of Rochester, 206 Bausch and Lomb Hall, P.O. Box 270171, Rochester, NY 14627-0171, USA}\n",
      "\\author[0000-0001-5537-4710]{Segev BenZvi}\n",
      "\\affiliation{Department of Physics \\& Astronomy, University of Rochester, 206 Bausch and Lomb Hall, P.O. Box 270171, Rochester, NY 14627-0171, USA}\n",
      "\\author[0000-0002-9540-546X]{Kelly Douglass}\n",
      "\\affiliation{Department of Physics \\& Astronomy, University of Rochester, 206 Bausch and Lomb Hall, P.O. Box 270171, Rochester, NY 14627-0171, USA}\n",
      "\\author[0000-0001-8101-2836]{Dahlia Veyrat}\n",
      "\\affiliation{Department of Physics \\& Astronomy, University of Rochester, 206 Bausch and Lomb Hall, P.O. Box 270171, Rochester, NY 14627-0171, USA}\n",
      "\\author{Jessica Nicole Aguilar}\n",
      "\\affiliation{Lawrence Berkeley National Laboratory, 1 Cyclotron Road, Berkeley, CA 94720, USA}\n",
      "\\author[0000-0001-6098-7247]{Steven Ahlen}\n",
      "\\affiliation{Physics Dept., Boston University, 590 Commonwealth Avenue, Boston, MA 02215, USA}\n",
      "\\author[0000-0001-9712-0006]{Davide Bianchi}\n",
      "\\affiliation{Dipartimento di Fisica ``Aldo Pontremoli'', Universit\\`a degli Studi di Milano, Via Celoria 16, I-20133 Milano, Italy}\n",
      "\\author{David Brooks}\n",
      "\\affiliation{Department of Physics \\& Astronomy, University College London, Gower Street, London, WC1E 6BT, UK}\n",
      "\\author{Todd Claybaugh}\n",
      "\\affiliation{Lawrence Berkeley National Laboratory, 1 Cyclotron Road, Berkeley, CA 94720, USA}\n",
      "\\author[0000-0002-5954-7903]{Shaun Cole}\n",
      "\\affiliation{Institute for Computational Cosmology, Department of Physics, Durham University, South Road, Durham DH1 3LE, UK}\n",
      "\\author[0000-0002-1769-1640]{Axel de la Macorra}\n",
      "\\affiliation{Instituto de F\\'{\\i}sica, Universidad Nacional Aut\\'{o}noma de M\\'{e}xico,  Cd. de M\\'{e}xico  C.P. 04510,  M\\'{e}xico}\n",
      "\\author{Peter Doel}\n",
      "\\affiliation{Department of Physics \\& Astronomy, University College London, Gower Street, London, WC1E 6BT, UK}\n",
      "\\author[0000-0002-3033-7312]{Andreu Font-Ribera}\n",
      "\\affiliation{Department of Physics \\& Astronomy, University College London, Gower Street, London, WC1E 6BT, UK}\\affiliation{Institut de F\\'{i}sica d’Altes Energies (IFAE), The Barcelona Institute of Science and Technology, Campus UAB, 08193 Bellaterra Barcelona, Spain}\n",
      "\\author[0000-0002-2890-3725]{Jaime E. Forero-Romero}\n",
      "\\affiliation{Departamento de F\\'isica, Universidad de los Andes, Cra. 1 No. 18A-10, Edificio Ip, CP 111711, Bogot\\'a, Colombia}\\affiliation{Observatorio Astron\\'omico, Universidad de los Andes, Cra. 1 No. 18A-10, Edificio H, CP 111711 Bogot\\'a, Colombia}\n",
      "\\author{Enrique Gaztañaga}\n",
      "\\affiliation{Institut d'Estudis Espacials de Catalunya (IEEC), 08034 Barcelona, Spain}\\affiliation{Institute of Cosmology and Gravitation, University of Portsmouth, Dennis Sciama Building, Portsmouth, PO1 3FX, UK}\\affiliation{Institute of Space Sciences, ICE-CSIC, Campus UAB, Carrer de Can Magrans s/n, 08913 Bellaterra, Barcelona, Spain}\n",
      "\\author[0000-0003-3142-233X]{Satya Gontcho A Gontcho}\n",
      "\\affiliation{Lawrence Berkeley National Laboratory, 1 Cyclotron Road, Berkeley, CA 94720, USA}\n",
      "\\author{Gaston Gutierrez}\n",
      "\\affiliation{Fermi National Accelerator Laboratory, PO Box 500, Batavia, IL 60510, USA}\n",
      "\\author{Klaus Honscheid}\n",
      "\\affiliation{Center for Cosmology and AstroParticle Physics, The Ohio State University, 191 West Woodruff Avenue, Columbus, OH 43210, USA}\\affiliation{Department of Physics, The Ohio State University, 191 West Woodruff Avenue, Columbus, OH 43210, USA}\\affiliation{The Ohio State University, Columbus, 43210 OH, USA}\n",
      "\\author[0000-0002-1081-9410]{Cullan Howlett}\n",
      "\\affiliation{School of Mathematics and Physics, University of Queensland, 4072, Australia}\n",
      "\\author{Stephanie Juneau}\n",
      "\\affiliation{NSF NOIRLab, 950 N. Cherry Ave., Tucson, AZ 85719, USA}\n",
      "\\author{Robert Kehoe}\n",
      "\\affiliation{Department of Physics, Southern Methodist University, 3215 Daniel Avenue, Dallas, TX 75275, USA}\n",
      "\\author[0000-0003-2644-135X]{Sergey Koposov}\n",
      "\\affiliation{Institute for Astronomy, University of Edinburgh, Royal Observatory, Blackford Hill, Edinburgh EH9 3HJ, UK}\\affiliation{Institute of Astronomy, University of Cambridge, Madingley Road, Cambridge CB3 0HA, UK}\n",
      "\\author{Andrew Lambert}\n",
      "\\affiliation{Lawrence Berkeley National Laboratory, 1 Cyclotron Road, Berkeley, CA 94720, USA}\n",
      "\\author[0000-0003-1838-8528]{Martin Landriau}\n",
      "\\affiliation{Lawrence Berkeley National Laboratory, 1 Cyclotron Road, Berkeley, CA 94720, USA}\n",
      "\\author[0000-0001-7178-8868]{Laurent Le Guillou}\n",
      "\\affiliation{Sorbonne Universit\\'{e}, CNRS/IN2P3, Laboratoire de Physique Nucl\\'{e}aire et de Hautes Energies (LPNHE), FR-75005 Paris, France}\n",
      "\\author[0000-0002-1125-7384]{Aaron Meisner}\n",
      "\\affiliation{NSF NOIRLab, 950 N. Cherry Ave., Tucson, AZ 85719, USA}\n",
      "\\author{Ramon Miquel}\n",
      "\\affiliation{Instituci\\'{o} Catalana de Recerca i Estudis Avan\\c{c}ats, Passeig de Llu\\'{\\i}s Companys, 23, 08010 Barcelona, Spain}\\affiliation{Institut de F\\'{i}sica d’Altes Energies (IFAE), The Barcelona Institute of Science and Technology, Campus UAB, 08193 Bellaterra Barcelona, Spain}\n",
      "\\author[0000-0002-2733-4559]{John Moustakas}\n",
      "\\affiliation{Department of Physics and Astronomy, Siena College, 515 Loudon Road, Loudonville, NY 12211, USA}\n",
      "\\author[0000-0002-1544-8946]{Gustavo Niz}\n",
      "\\affiliation{Departamento de F\\'{i}sica, Universidad de Guanajuato - DCI, C.P. 37150, Leon, Guanajuato, M\\'{e}xico}\\affiliation{Instituto Avanzado de Cosmolog\\'{\\i}a A.~C., San Marcos 11 - Atenas 202. Magdalena Contreras, 10720. Ciudad de M\\'{e}xico, M\\'{e}xico}\n",
      "\\author[0000-0002-0644-5727]{Will Percival}\n",
      "\\affiliation{Department of Physics and Astronomy, University of Waterloo, 200 University Ave W, Waterloo, ON N2L 3G1, Canada}\\affiliation{Perimeter Institute for Theoretical Physics, 31 Caroline St. North, Waterloo, ON N2L 2Y5, Canada}\\affiliation{Waterloo Centre for Astrophysics, University of Waterloo, 200 University Ave W, Waterloo, ON N2L 3G1, Canada}\n",
      "\\author[0000-0001-7145-8674]{Francisco Prada}\n",
      "\\affiliation{Instituto de Astrof\\'{i}sica de Andaluc\\'{i}a (CSIC), Glorieta de la Astronom\\'{i}a, s/n, E-18008 Granada, Spain}\n",
      "\\author[0000-0001-6979-0125]{Ignasi Pérez-Ràfols}\n",
      "\\affiliation{Departament de F\\'isica, EEBE, Universitat Polit\\`ecnica de Catalunya, c/Eduard Maristany 10, 08930 Barcelona, Spain}\n",
      "\\author{Graziano Rossi}\n",
      "\\affiliation{Department of Physics and Astronomy, Sejong University, Seoul, 143-747, Korea}\n",
      "\\author[0000-0002-9646-8198]{Eusebio Sanchez}\n",
      "\\affiliation{CIEMAT, Avenida Complutense 40, E-28040 Madrid, Spain}\n",
      "\\author{Michael Schubnell}\n",
      "\\affiliation{Department of Physics, University of Michigan, Ann Arbor, MI 48109, USA}\\affiliation{University of Michigan, Ann Arbor, MI 48109, USA}\n",
      "\\author[0000-0002-6588-3508]{Hee-Jong Seo}\n",
      "\\affiliation{Department of Physics \\& Astronomy, Ohio University, Athens, OH 45701, USA}\n",
      "\\author{David Sprayberry}\n",
      "\\affiliation{NSF NOIRLab, 950 N. Cherry Ave., Tucson, AZ 85719, USA}\n",
      "\\author[0000-0003-1704-0781]{Gregory Tarlé}\n",
      "\\affiliation{University of Michigan, Ann Arbor, MI 48109, USA}\n",
      "\\author{Benjamin Alan Weaver}\n",
      "\\affiliation{NSF NOIRLab, 950 N. Cherry Ave., Tucson, AZ 85719, USA}\n",
      "\\author[0000-0002-6684-3997]{Hu Zou}\n",
      "\\affiliation{National Astronomical Observatories, Chinese Academy of Sciences, A20 Datun Rd., Chaoyang District, Beijing, 100012, P.R. China}\n"
     ]
    }
   ],
   "source": [
    "#gather author information\n",
    "author_dict = {}\n",
    "for index, author in authors.iterrows():\n",
    "    name = author['Firstname'].strip() + \" \" + author['Lastname'].strip()\n",
    "    \n",
    "    #handle duplicate names (multiple institutions)\n",
    "    if name in author_dict.keys():\n",
    "        author_dict[name]['Affiliation'] = author_dict[name]['Affiliation'] + [author['Affiliation']]\n",
    "    \n",
    "    #add new authors\n",
    "    else:\n",
    "        author_dict[name] = {'ORCID':author['ORCID'], 'Affiliation':[author['Affiliation']]}\n",
    "\n",
    "#print out authors for overleaf document\n",
    "for key, value in author_dict.items():\n",
    "    name = \"{\"+key+\"}\"\n",
    "    \n",
    "    if str(value['ORCID']) != 'nan':\n",
    "        name = \"[\"+value['ORCID']+\"]\" + name\n",
    "        \n",
    "    name = \"\\\\author\" + name\n",
    "    \n",
    "    affiliation = [\"\\\\affiliation{\"+aff+\"}\" for aff in author_dict[key]['Affiliation']]\n",
    "    affiliation = ''.join(affiliation)\n",
    "    \n",
    "    print(name)\n",
    "    print(affiliation)"
   ]
  },
  {
   "cell_type": "code",
   "execution_count": null,
   "id": "acf5ed02-2f2d-42ca-b9fc-c3db2d41e379",
   "metadata": {},
   "outputs": [],
   "source": []
  }
 ],
 "metadata": {
  "kernelspec": {
   "display_name": "DESI main",
   "language": "python",
   "name": "desi-main"
  },
  "language_info": {
   "codemirror_mode": {
    "name": "ipython",
    "version": 3
   },
   "file_extension": ".py",
   "mimetype": "text/x-python",
   "name": "python",
   "nbconvert_exporter": "python",
   "pygments_lexer": "ipython3",
   "version": "3.10.14"
  }
 },
 "nbformat": 4,
 "nbformat_minor": 5
}
